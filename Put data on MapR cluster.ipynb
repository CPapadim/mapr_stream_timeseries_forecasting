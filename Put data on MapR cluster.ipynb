{
 "cells": [
  {
   "cell_type": "code",
   "execution_count": null,
   "metadata": {},
   "outputs": [],
   "source": [
    "# Put some data on the cluster to work with\n",
    "! hadoop fs -mkdir '/data'\n",
    "! hadoop fs -mkdir '/data/predictive-maintenance'\n",
    "! hadoop fs -mkdir '/data/predictive-maintenance/rw_XML_train'"
   ]
  },
  {
   "cell_type": "code",
   "execution_count": null,
   "metadata": {},
   "outputs": [],
   "source": [
    "import subprocess\n",
    "import os\n",
    "for filename in os.listdir('tmp/data/rw_XML_train/'):\n",
    "    if filename.endswith(\".dat\"): \n",
    "        #print filename\n",
    "        localpath = 'tmp/data/rw_XML_train/' + filename.replace(' ', '%20')\n",
    "        targetpath = '/data/predictive-maintenance/rw_XML_train/' + filename.replace(' ', '_')\n",
    "        subprocess.check_output(['hadoop', 'fs', '-put', localpath, targetpath])\n",
    "        print(filename)\n",
    "    else:\n",
    "        continue\n",
    "\n"
   ]
  },
  {
   "cell_type": "code",
   "execution_count": null,
   "metadata": {},
   "outputs": [],
   "source": []
  }
 ],
 "metadata": {
  "kernelspec": {
   "display_name": "Python 2",
   "language": "python",
   "name": "python2"
  },
  "language_info": {
   "codemirror_mode": {
    "name": "ipython",
    "version": 2
   },
   "file_extension": ".py",
   "mimetype": "text/x-python",
   "name": "python",
   "nbconvert_exporter": "python",
   "pygments_lexer": "ipython2",
   "version": "2.7.9"
  }
 },
 "nbformat": 4,
 "nbformat_minor": 2
}
