{
 "cells": [
  {
   "cell_type": "markdown",
   "metadata": {},
   "source": [
    "# Put data on Mapr Cluster"
   ]
  },
  {
   "cell_type": "code",
   "execution_count": null,
   "metadata": {},
   "outputs": [],
   "source": [
    "# Put some data on the cluster to work with\n",
    "! hadoop fs -mkdir '/data'\n",
    "! hadoop fs -mkdir '/data/predictive-maintenance'\n",
    "! hadoop fs -mkdir '/data/predictive-maintenance/rw_XML_train'"
   ]
  },
  {
   "cell_type": "code",
   "execution_count": 17,
   "metadata": {},
   "outputs": [
    {
     "name": "stdout",
     "output_type": "stream",
     "text": [
      "2014\r"
     ]
    }
   ],
   "source": [
    "from __future__ import print_function\n",
    "import subprocess\n",
    "import os\n",
    "counter = 0;\n",
    "for filename in os.listdir('tmp/data/rw_XML_train/'):\n",
    "    counter = counter + 1\n",
    "    if filename.endswith(\".dat\"): \n",
    "        #print filename\n",
    "        localpath = 'tmp/data/rw_XML_train/' + filename.replace(' ', '%20')\n",
    "        targetpath = '/data/predictive-maintenance/rw_XML_train/' + filename.replace(' ', '_').replace('.dat', '.xml')\n",
    "        subprocess.check_output(['hadoop', 'fs', '-put', localpath, targetpath])\n",
    "        print(counter, end = \"\\r\")\n",
    "    else:\n",
    "        continue\n",
    "\n"
   ]
  },
  {
   "cell_type": "code",
   "execution_count": 20,
   "metadata": {},
   "outputs": [
    {
     "name": "stdout",
     "output_type": "stream",
     "text": [
      "Found 2 items\r\n",
      "-rwxr-xr-x   3 5007 5007   15447542 2018-02-01 21:15 /data/predictive-maintenance/training-set/part-00000-45866095-f76d-4f6c-ba2d-a07f0ab2dc04.csv\r\n",
      "drwxr-xr-x   - 5007 5007          2 2018-02-02 05:47 /data/predictive-maintenance/training-set/rw_etl.csv\r\n"
     ]
    }
   ],
   "source": [
    "! hadoop fs -ls /data/predictive-maintenance/training-set"
   ]
  },
  {
   "cell_type": "code",
   "execution_count": null,
   "metadata": {},
   "outputs": [],
   "source": []
  }
 ],
 "metadata": {
  "kernelspec": {
   "display_name": "Python 2",
   "language": "python",
   "name": "python2"
  },
  "language_info": {
   "codemirror_mode": {
    "name": "ipython",
    "version": 2
   },
   "file_extension": ".py",
   "mimetype": "text/x-python",
   "name": "python",
   "nbconvert_exporter": "python",
   "pygments_lexer": "ipython2",
   "version": "2.7.9"
  }
 },
 "nbformat": 4,
 "nbformat_minor": 2
}
