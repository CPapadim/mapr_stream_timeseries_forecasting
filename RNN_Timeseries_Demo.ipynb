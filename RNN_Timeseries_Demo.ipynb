{
 "cells": [
  {
   "cell_type": "markdown",
   "metadata": {},
   "source": [
    "# RNN Time Series example using Tensorflow\n",
    "Justin Brandenburg, MapR Technologies"
   ]
  },
  {
   "cell_type": "code",
   "execution_count": 1,
   "metadata": {
    "scrolled": true
   },
   "outputs": [
    {
     "name": "stdout",
     "output_type": "stream",
     "text": [
      "Starting Spark application\n"
     ]
    },
    {
     "data": {
      "text/html": [
       "<table>\n",
       "<tr><th>ID</th><th>YARN Application ID</th><th>Kind</th><th>State</th><th>Spark UI</th><th>Driver log</th><th>Current session?</th></tr><tr><td>1</td><td>application_1500400165929_0603</td><td>pyspark</td><td>idle</td><td><a target=\"_blank\" href=\"https://ip-172-31-25-53.us-west-2.compute.internal:8090/proxy/application_1500400165929_0603/\">Link</a></td><td><a target=\"_blank\" href=\"https://ip-172-31-25-53.us-west-2.compute.internal:8044/node/containerlogs/container_e22_1500400165929_0603_01_000001/harry\">Link</a></td><td>✔</td></tr></table>"
      ],
      "text/plain": [
       "<IPython.core.display.HTML object>"
      ]
     },
     "metadata": {},
     "output_type": "display_data"
    },
    {
     "name": "stdout",
     "output_type": "stream",
     "text": [
      "SparkSession available as 'spark'.\n",
      "'2.7.6 (default, Oct 26 2016, 20:30:19) \\n[GCC 4.8.4]'"
     ]
    }
   ],
   "source": [
    "#What are we working with?\n",
    "import sys\n",
    "sys.version"
   ]
  },
  {
   "cell_type": "code",
   "execution_count": 3,
   "metadata": {},
   "outputs": [
    {
     "data": {
      "text/plain": [
       "'2.7.9 (default, Jun 29 2016, 13:08:31) \\n[GCC 4.9.2]'"
      ]
     },
     "execution_count": 3,
     "metadata": {},
     "output_type": "execute_result"
    }
   ],
   "source": [
    "%%local\n",
    "import sys\n",
    "sys.version"
   ]
  },
  {
   "cell_type": "code",
   "execution_count": 6,
   "metadata": {},
   "outputs": [
    {
     "name": "stdout",
     "output_type": "stream",
     "text": [
      "Reading package lists... Done\n",
      "Building dependency tree       \n",
      "Reading state information... Done\n",
      "The following extra packages will be installed:\n",
      "  blt tk8.6-blt2.5\n",
      "Suggested packages:\n",
      "  blt-demo tix python-tk-dbg\n",
      "The following NEW packages will be installed:\n",
      "  blt python-tk tk8.6-blt2.5\n",
      "0 upgraded, 3 newly installed, 0 to remove and 0 not upgraded.\n",
      "Need to get 627 kB of archives.\n",
      "After this operation, 2122 kB of additional disk space will be used.\n",
      "Get:1 http://httpredir.debian.org/debian/ jessie/main tk8.6-blt2.5 amd64 2.5.3+dfsg-1 [586 kB]\n",
      "Get:2 http://httpredir.debian.org/debian/ jessie/main blt amd64 2.5.3+dfsg-1 [14.3 kB]\n",
      "Get:3 http://httpredir.debian.org/debian/ jessie/main python-tk amd64 2.7.8-2+b1 [26.7 kB]\n",
      "Fetched 627 kB in 0s (769 kB/s) \n",
      "debconf: unable to initialize frontend: Dialog\n",
      "debconf: (No usable dialog-like program is installed, so the dialog based frontend cannot be used. at /usr/share/perl5/Debconf/FrontEnd/Dialog.pm line 76, <> line 3.)\n",
      "debconf: falling back to frontend: Readline\n",
      "Selecting previously unselected package tk8.6-blt2.5.\n",
      "(Reading database ... 75150 files and directories currently installed.)\n",
      "Preparing to unpack .../tk8.6-blt2.5_2.5.3+dfsg-1_amd64.deb ...\n",
      "Unpacking tk8.6-blt2.5 (2.5.3+dfsg-1) ...\n",
      "Selecting previously unselected package blt.\n",
      "Preparing to unpack .../blt_2.5.3+dfsg-1_amd64.deb ...\n",
      "Unpacking blt (2.5.3+dfsg-1) ...\n",
      "Selecting previously unselected package python-tk.\n",
      "Preparing to unpack .../python-tk_2.7.8-2+b1_amd64.deb ...\n",
      "Unpacking python-tk (2.7.8-2+b1) ...\n",
      "Setting up tk8.6-blt2.5 (2.5.3+dfsg-1) ...\n",
      "Setting up blt (2.5.3+dfsg-1) ...\n",
      "Setting up python-tk (2.7.8-2+b1) ...\n",
      "Processing triggers for libc-bin (2.19-18+deb8u10) ...\n"
     ]
    }
   ],
   "source": [
    "%%local\n",
    "!sudo apt-get install -y python-tk"
   ]
  },
  {
   "cell_type": "code",
   "execution_count": 1,
   "metadata": {},
   "outputs": [],
   "source": [
    "%%local\n",
    "#Import Libraries\n",
    "import tensorflow as tf\n",
    "import pandas as pd\n",
    "import numpy as np\n",
    "import os\n",
    "import matplotlib\n",
    "from matplotlib import pyplot as plt\n",
    "import random\n",
    "%matplotlib inline\n",
    "import tensorflow as tf\n",
    "import shutil\n",
    "import tensorflow.contrib.learn as tflearn\n",
    "import tensorflow.contrib.layers as tflayers\n",
    "from tensorflow.contrib.learn.python.learn import learn_runner\n",
    "import tensorflow.contrib.metrics as metrics\n",
    "import tensorflow.contrib.rnn as rnn"
   ]
  },
  {
   "cell_type": "code",
   "execution_count": 2,
   "metadata": {},
   "outputs": [
    {
     "data": {
      "text/plain": [
       "'1.3.0'"
      ]
     },
     "execution_count": 2,
     "metadata": {},
     "output_type": "execute_result"
    }
   ],
   "source": [
    "%%local\n",
    "#TF Version\n",
    "tf.__version__"
   ]
  },
  {
   "cell_type": "markdown",
   "metadata": {},
   "source": [
    "#### Generate some data"
   ]
  },
  {
   "cell_type": "code",
   "execution_count": 3,
   "metadata": {},
   "outputs": [
    {
     "data": {
      "image/png": "[encoded data removed]",
      "text/plain": [
       "<matplotlib.figure.Figure at 0x7f3abbe46dd0>"
      ]
     },
     "metadata": {},
     "output_type": "display_data"
    },
    {
     "data": {
      "text/plain": [
       "2000-01-31    -9.909385\n",
       "2000-02-29   -16.431887\n",
       "2000-03-31    -8.332938\n",
       "2000-04-30   -17.928518\n",
       "2000-05-31   -23.255403\n",
       "2000-06-30   -21.769311\n",
       "2000-07-31   -27.077233\n",
       "2000-08-31   -21.388962\n",
       "2000-09-30   -22.846678\n",
       "2000-10-31   -31.960037\n",
       "Freq: M, dtype: float64"
      ]
     },
     "execution_count": 3,
     "metadata": {},
     "output_type": "execute_result"
    }
   ],
   "source": [
    "%%local\n",
    "random.seed(111)\n",
    "rng = pd.date_range(start='2000', periods=209, freq='M')\n",
    "ts = pd.Series(np.random.uniform(-10, 10, size=len(rng)), rng).cumsum()\n",
    "ts.plot(c='b', title='Example Time Series')\n",
    "plt.show()\n",
    "ts.head(10)"
   ]
  },
  {
   "cell_type": "markdown",
   "metadata": {},
   "source": [
    "#### Convert data into array that can be broken up into training \"batches\" that we will feed into our RNN model.  Note the shape of the arrays. "
   ]
  },
  {
   "cell_type": "code",
   "execution_count": 4,
   "metadata": {},
   "outputs": [
    {
     "name": "stdout",
     "output_type": "stream",
     "text": [
      "10\n",
      "(10, 20, 1)\n",
      "[[[ -9.9093845 ]\n",
      "  [-16.43188724]\n",
      "  [ -8.33293811]\n",
      "  [-17.92851754]\n",
      "  [-23.25540262]\n",
      "  [-21.76931099]\n",
      "  [-27.07723252]\n",
      "  [-21.38896232]\n",
      "  [-22.84667792]\n",
      "  [-31.96003735]\n",
      "  [-29.54904238]\n",
      "  [-28.27734157]\n",
      "  [-28.27063509]\n",
      "  [-20.60473066]\n",
      "  [-22.81311389]\n",
      "  [-21.76884369]\n",
      "  [-30.37410137]\n",
      "  [-34.80888329]\n",
      "  [-26.19473843]\n",
      "  [-17.22574023]]\n",
      "\n",
      " [[-25.33084418]\n",
      "  [-33.16637651]\n",
      "  [-33.09204536]\n",
      "  [-24.5732529 ]\n",
      "  [-28.29355013]\n",
      "  [-36.37545339]\n",
      "  [-45.6139316 ]\n",
      "  [-54.50552929]\n",
      "  [-54.16124323]\n",
      "  [-52.05169061]\n",
      "  [-54.07525545]\n",
      "  [-60.2019048 ]\n",
      "  [-51.51492681]\n",
      "  [-46.20357978]\n",
      "  [-41.36695176]\n",
      "  [-50.59354688]\n",
      "  [-57.44017883]\n",
      "  [-59.14851765]\n",
      "  [-66.40629156]\n",
      "  [-60.68086555]]]\n",
      "[[[-16.43188724]\n",
      "  [ -8.33293811]\n",
      "  [-17.92851754]\n",
      "  [-23.25540262]\n",
      "  [-21.76931099]\n",
      "  [-27.07723252]\n",
      "  [-21.38896232]\n",
      "  [-22.84667792]\n",
      "  [-31.96003735]\n",
      "  [-29.54904238]\n",
      "  [-28.27734157]\n",
      "  [-28.27063509]\n",
      "  [-20.60473066]\n",
      "  [-22.81311389]\n",
      "  [-21.76884369]\n",
      "  [-30.37410137]\n",
      "  [-34.80888329]\n",
      "  [-26.19473843]\n",
      "  [-17.22574023]\n",
      "  [-25.33084418]]]\n",
      "(10, 20, 1)\n"
     ]
    }
   ],
   "source": [
    "%%local\n",
    "TS = np.array(ts)\n",
    "num_periods = 20\n",
    "f_horizon = 1  #forecast horizon, one period into the future\n",
    "\n",
    "x_data = TS[:(len(TS)-(len(TS) % num_periods))]\n",
    "x_batches = x_data.reshape(-1, 20, 1)\n",
    "\n",
    "y_data = TS[1:(len(TS)-(len(TS) % num_periods))+f_horizon]\n",
    "y_batches = y_data.reshape(-1, 20, 1)\n",
    "print (len(x_batches))\n",
    "print (x_batches.shape)\n",
    "print (x_batches[0:2])\n",
    "\n",
    "print (y_batches[0:1])\n",
    "print (y_batches.shape)"
   ]
  },
  {
   "cell_type": "markdown",
   "metadata": {},
   "source": [
    "#### Pull out our test data"
   ]
  },
  {
   "cell_type": "code",
   "execution_count": 5,
   "metadata": {},
   "outputs": [
    {
     "name": "stdout",
     "output_type": "stream",
     "text": [
      "(1, 20, 1)\n",
      "[[[ 19.23523732]\n",
      "  [ 27.27811184]\n",
      "  [ 37.05181297]\n",
      "  [ 29.70517091]\n",
      "  [ 34.31617816]\n",
      "  [ 26.56826257]\n",
      "  [ 23.78820275]\n",
      "  [ 33.50471907]\n",
      "  [ 43.46957487]\n",
      "  [ 38.70542305]\n",
      "  [ 42.02756436]\n",
      "  [ 48.40160992]\n",
      "  [ 40.36852439]\n",
      "  [ 32.57708561]\n",
      "  [ 33.35693414]\n",
      "  [ 39.28415399]\n",
      "  [ 38.56647957]\n",
      "  [ 40.2878574 ]\n",
      "  [ 34.57850683]\n",
      "  [ 28.82838625]]]\n"
     ]
    }
   ],
   "source": [
    "%%local\n",
    "def test_data(series,forecast,num_periods):\n",
    "    test_x_setup = TS[-(num_periods + forecast):]\n",
    "    testX = test_x_setup[:num_periods].reshape(-1, 20, 1)\n",
    "    testY = TS[-(num_periods):].reshape(-1, 20, 1)\n",
    "    return testX,testY\n",
    "\n",
    "X_test, Y_test = test_data(TS,f_horizon,num_periods )\n",
    "print (X_test.shape)\n",
    "print (X_test)"
   ]
  },
  {
   "cell_type": "code",
   "execution_count": 6,
   "metadata": {},
   "outputs": [],
   "source": [
    "%%local\n",
    "tf.reset_default_graph()   #We didn't have any previous graph objects running, but this would reset the graphs\n",
    "\n",
    "num_periods = 20      #number of periods per vector we are using to predict one period ahead\n",
    "inputs = 1            #number of vectors submitted\n",
    "hidden = 100          #number of neurons we will recursively work through, can be changed to improve accuracy\n",
    "output = 1            #number of output vectors\n",
    "\n",
    "X = tf.placeholder(tf.float32, [None, num_periods, inputs])   #create variable objects\n",
    "y = tf.placeholder(tf.float32, [None, num_periods, output])\n",
    "\n",
    "\n",
    "basic_cell = tf.contrib.rnn.BasicRNNCell(num_units=hidden, activation=tf.nn.relu)   #create our RNN object\n",
    "rnn_output, states = tf.nn.dynamic_rnn(basic_cell, X, dtype=tf.float32)               #choose dynamic over static\n",
    "\n",
    "learning_rate = 0.001   #small learning rate so we don't overshoot the minimum\n",
    "\n",
    "stacked_rnn_output = tf.reshape(rnn_output, [-1, hidden])           #change the form into a tensor\n",
    "stacked_outputs = tf.layers.dense(stacked_rnn_output, output)        #specify the type of layer (dense)\n",
    "outputs = tf.reshape(stacked_outputs, [-1, num_periods, output])          #shape of results\n",
    " \n",
    "loss = tf.reduce_sum(tf.square(outputs - y))    #define the cost function which evaluates the quality of our model\n",
    "optimizer = tf.train.AdamOptimizer(learning_rate=learning_rate)          #gradient descent method\n",
    "training_op = optimizer.minimize(loss)          #train the result of the application of the cost_function                                 \n",
    "\n",
    "init = tf.global_variables_initializer()           #initialize all the variables"
   ]
  },
  {
   "cell_type": "code",
   "execution_count": 7,
   "metadata": {},
   "outputs": [
    {
     "name": "stdout",
     "output_type": "stream",
     "text": [
      "(0, '\\tMSE:', 290038.25)\n",
      "(100, '\\tMSE:', 12070.724)\n",
      "(200, '\\tMSE:', 7378.7529)\n",
      "(300, '\\tMSE:', 4280.2754)\n",
      "(400, '\\tMSE:', 2830.2292)\n",
      "(500, '\\tMSE:', 2306.063)\n",
      "(600, '\\tMSE:', 2066.0398)\n",
      "(700, '\\tMSE:', 2146.375)\n",
      "(800, '\\tMSE:', 2043.501)\n",
      "(900, '\\tMSE:', 1474.446)\n",
      "[[[ 20.56710625]\n",
      "  [ 24.44421387]\n",
      "  [ 35.79454422]\n",
      "  [ 33.33481216]\n",
      "  [ 35.22780228]\n",
      "  [ 27.81204987]\n",
      "  [ 33.66329956]\n",
      "  [ 18.32993698]\n",
      "  [ 37.29365158]\n",
      "  [ 54.26977921]\n",
      "  [ 44.40999222]\n",
      "  [ 38.33003616]\n",
      "  [ 51.22755051]\n",
      "  [ 35.40457153]\n",
      "  [ 31.7077713 ]\n",
      "  [ 46.6059494 ]\n",
      "  [ 55.83321762]\n",
      "  [ 39.86963272]\n",
      "  [ 38.40520477]\n",
      "  [ 42.07128143]]]\n"
     ]
    }
   ],
   "source": [
    "%%local\n",
    "epochs = 1000     #number of iterations or training cycles, includes both the FeedFoward and Backpropogation\n",
    "\n",
    "with tf.Session() as sess:\n",
    "    init.run()\n",
    "    for ep in range(epochs):\n",
    "        sess.run(training_op, feed_dict={X: x_batches, y: y_batches})\n",
    "        if ep % 100 == 0:\n",
    "            mse = loss.eval(feed_dict={X: x_batches, y: y_batches})\n",
    "            print(ep, \"\\tMSE:\", mse)\n",
    "    \n",
    "    y_pred = sess.run(outputs, feed_dict={X: X_test})\n",
    "    print(y_pred)"
   ]
  },
  {
   "cell_type": "code",
   "execution_count": 8,
   "metadata": {},
   "outputs": [
    {
     "data": {
      "image/png": "[encoded data removed]",
      "text/plain": [
       "<matplotlib.figure.Figure at 0x7f3a9db29490>"
      ]
     },
     "metadata": {},
     "output_type": "display_data"
    }
   ],
   "source": [
    "%%local\n",
    "plt.title(\"Forecast vs Actual\", fontsize=14)\n",
    "plt.plot(pd.Series(np.ravel(Y_test)), \"bo\", markersize=10, label=\"Actual\")\n",
    "#plt.plot(pd.Series(np.ravel(Y_test)), \"w*\", markersize=10)\n",
    "plt.plot(pd.Series(np.ravel(y_pred)), \"r.\", markersize=10, label=\"Forecast\")\n",
    "plt.legend(loc=\"upper left\")\n",
    "plt.xlabel(\"Time Periods\")\n",
    "\n",
    "plt.show()\n",
    "\n"
   ]
  },
  {
   "cell_type": "code",
   "execution_count": null,
   "metadata": {
    "collapsed": true
   },
   "outputs": [],
   "source": []
  }
 ],
 "metadata": {
  "anaconda-cloud": {},
  "kernelspec": {
   "display_name": "PySpark",
   "language": "",
   "name": "pysparkkernel"
  },
  "language_info": {
   "codemirror_mode": {
    "name": "python",
    "version": 2
   },
   "mimetype": "text/x-python",
   "name": "pyspark",
   "pygments_lexer": "python2"
  }
 },
 "nbformat": 4,
 "nbformat_minor": 1
}
