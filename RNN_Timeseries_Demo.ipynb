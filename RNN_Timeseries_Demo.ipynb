{
 "cells": [
  {
   "cell_type": "markdown",
   "metadata": {},
   "source": [
    "# RNN Time Series example using Tensorflow\n",
    "Justin Brandenburg, MapR Technologies"
   ]
  },
  {
   "cell_type": "code",
   "execution_count": 1,
   "metadata": {
    "scrolled": true
   },
   "outputs": [
    {
     "name": "stdout",
     "output_type": "stream",
     "text": [
      "Starting Spark application\n"
     ]
    },
    {
     "data": {
      "text/html": [
       "<table>\n",
       "<tr><th>ID</th><th>YARN Application ID</th><th>Kind</th><th>State</th><th>Spark UI</th><th>Driver log</th><th>Current session?</th></tr><tr><td>1</td><td>application_1500400165929_0603</td><td>pyspark</td><td>idle</td><td><a target=\"_blank\" href=\"https://ip-172-31-25-53.us-west-2.compute.internal:8090/proxy/application_1500400165929_0603/\">Link</a></td><td><a target=\"_blank\" href=\"https://ip-172-31-25-53.us-west-2.compute.internal:8044/node/containerlogs/container_e22_1500400165929_0603_01_000001/harry\">Link</a></td><td>✔</td></tr></table>"
      ],
      "text/plain": [
       "<IPython.core.display.HTML object>"
      ]
     },
     "metadata": {},
     "output_type": "display_data"
    },
    {
     "name": "stdout",
     "output_type": "stream",
     "text": [
      "SparkSession available as 'spark'.\n",
      "'2.7.6 (default, Oct 26 2016, 20:30:19) \\n[GCC 4.8.4]'"
     ]
    }
   ],
   "source": [
    "#What are we working with?\n",
    "import sys\n",
    "sys.version"
   ]
  },
  {
   "cell_type": "code",
   "execution_count": 3,
   "metadata": {},
   "outputs": [
    {
     "data": {
      "text/plain": [
       "'2.7.9 (default, Jun 29 2016, 13:08:31) \\n[GCC 4.9.2]'"
      ]
     },
     "execution_count": 3,
     "metadata": {},
     "output_type": "execute_result"
    }
   ],
   "source": [
    "%%local\n",
    "import sys\n",
    "sys.version"
   ]
  },
  {
   "cell_type": "code",
   "execution_count": 6,
   "metadata": {},
   "outputs": [
    {
     "name": "stdout",
     "output_type": "stream",
     "text": [
      "Reading package lists... Done\n",
      "Building dependency tree       \n",
      "Reading state information... Done\n",
      "The following extra packages will be installed:\n",
      "  blt tk8.6-blt2.5\n",
      "Suggested packages:\n",
      "  blt-demo tix python-tk-dbg\n",
      "The following NEW packages will be installed:\n",
      "  blt python-tk tk8.6-blt2.5\n",
      "0 upgraded, 3 newly installed, 0 to remove and 0 not upgraded.\n",
      "Need to get 627 kB of archives.\n",
      "After this operation, 2122 kB of additional disk space will be used.\n",
      "Get:1 http://httpredir.debian.org/debian/ jessie/main tk8.6-blt2.5 amd64 2.5.3+dfsg-1 [586 kB]\n",
      "Get:2 http://httpredir.debian.org/debian/ jessie/main blt amd64 2.5.3+dfsg-1 [14.3 kB]\n",
      "Get:3 http://httpredir.debian.org/debian/ jessie/main python-tk amd64 2.7.8-2+b1 [26.7 kB]\n",
      "Fetched 627 kB in 0s (769 kB/s) \n",
      "debconf: unable to initialize frontend: Dialog\n",
      "debconf: (No usable dialog-like program is installed, so the dialog based frontend cannot be used. at /usr/share/perl5/Debconf/FrontEnd/Dialog.pm line 76, <> line 3.)\n",
      "debconf: falling back to frontend: Readline\n",
      "Selecting previously unselected package tk8.6-blt2.5.\n",
      "(Reading database ... 75150 files and directories currently installed.)\n",
      "Preparing to unpack .../tk8.6-blt2.5_2.5.3+dfsg-1_amd64.deb ...\n",
      "Unpacking tk8.6-blt2.5 (2.5.3+dfsg-1) ...\n",
      "Selecting previously unselected package blt.\n",
      "Preparing to unpack .../blt_2.5.3+dfsg-1_amd64.deb ...\n",
      "Unpacking blt (2.5.3+dfsg-1) ...\n",
      "Selecting previously unselected package python-tk.\n",
      "Preparing to unpack .../python-tk_2.7.8-2+b1_amd64.deb ...\n",
      "Unpacking python-tk (2.7.8-2+b1) ...\n",
      "Setting up tk8.6-blt2.5 (2.5.3+dfsg-1) ...\n",
      "Setting up blt (2.5.3+dfsg-1) ...\n",
      "Setting up python-tk (2.7.8-2+b1) ...\n",
      "Processing triggers for libc-bin (2.19-18+deb8u10) ...\n"
     ]
    }
   ],
   "source": [
    "%%local\n",
    "!sudo apt-get install -y python-tk"
   ]
  },
  {
   "cell_type": "code",
   "execution_count": null,
   "metadata": {},
   "outputs": [
    {
     "name": "stdout",
     "output_type": "stream",
     "text": [
      "2018-01-29 05:10:15,9785 ERROR Client fs/client/fileclient/cc/client.cc:6489 Thread: 2823 rpc err Connection timed out(110) 28.21 to 10.82.4.59:5692, fid 2049.16.2, upd 0\r\n"
     ]
    }
   ],
   "source": [
    "%%local\n",
    "\n",
    "! hadoop fs -ls /data/"
   ]
  },
  {
   "cell_type": "code",
   "execution_count": 1,
   "metadata": {},
   "outputs": [],
   "source": [
    "%%local\n",
    "#Import Libraries\n",
    "import tensorflow as tf\n",
    "import pandas as pd\n",
    "import numpy as np\n",
    "import os\n",
    "import matplotlib\n",
    "from matplotlib import pyplot as plt\n",
    "import random\n",
    "%matplotlib inline\n",
    "import tensorflow as tf\n",
    "import shutil\n",
    "import tensorflow.contrib.learn as tflearn\n",
    "import tensorflow.contrib.layers as tflayers\n",
    "from tensorflow.contrib.learn.python.learn import learn_runner\n",
    "import tensorflow.contrib.metrics as metrics\n",
    "import tensorflow.contrib.rnn as rnn"
   ]
  },
  {
   "cell_type": "code",
   "execution_count": 2,
   "metadata": {},
   "outputs": [
    {
     "data": {
      "text/plain": [
       "'1.3.0'"
      ]
     },
     "execution_count": 2,
     "metadata": {},
     "output_type": "execute_result"
    }
   ],
   "source": [
    "%%local\n",
    "#TF Version\n",
    "tf.__version__"
   ]
  },
  {
   "cell_type": "markdown",
   "metadata": {},
   "source": [
    "#### Generate some data"
   ]
  },
  {
   "cell_type": "code",
   "execution_count": 10,
   "metadata": {},
   "outputs": [
    {
     "data": {
      "image/png": "[encoded data removed]",
      "text/plain": [
       "<matplotlib.figure.Figure at 0x7f3a9db14390>"
      ]
     },
     "metadata": {},
     "output_type": "display_data"
    },
    {
     "data": {
      "text/plain": [
       "2000-01-31    -2.541790\n",
       "2000-02-29    -6.442486\n",
       "2000-03-31     1.563174\n",
       "2000-04-30    -6.316915\n",
       "2000-05-31    -4.408935\n",
       "2000-06-30    -5.987130\n",
       "2000-07-31   -12.173528\n",
       "2000-08-31   -15.299350\n",
       "2000-09-30   -15.095951\n",
       "2000-10-31   -24.006255\n",
       "Freq: M, dtype: float64"
      ]
     },
     "execution_count": 10,
     "metadata": {},
     "output_type": "execute_result"
    }
   ],
   "source": [
    "%%local\n",
    "random.seed(111)\n",
    "rng = pd.date_range(start='2000', periods=209, freq='M')\n",
    "ts = pd.Series(np.random.uniform(-10, 10, size=len(rng)), rng).cumsum()\n",
    "ts.plot(c='b', title='Example Time Series')\n",
    "plt.show()\n",
    "ts.head(10)"
   ]
  },
  {
   "cell_type": "markdown",
   "metadata": {},
   "source": [
    "#### Convert data into array that can be broken up into training \"batches\" that we will feed into our RNN model.  Note the shape of the arrays. "
   ]
  },
  {
   "cell_type": "code",
   "execution_count": 11,
   "metadata": {},
   "outputs": [
    {
     "name": "stdout",
     "output_type": "stream",
     "text": [
      "10\n",
      "(10, 20, 1)\n",
      "[[[ -2.54178956]\n",
      "  [ -6.44248633]\n",
      "  [  1.5631742 ]\n",
      "  [ -6.31691471]\n",
      "  [ -4.40893548]\n",
      "  [ -5.98713045]\n",
      "  [-12.17352834]\n",
      "  [-15.29935009]\n",
      "  [-15.09595068]\n",
      "  [-24.00625545]\n",
      "  [-25.54237781]\n",
      "  [-19.73453089]\n",
      "  [-22.98559617]\n",
      "  [-31.67412789]\n",
      "  [-32.62897895]\n",
      "  [-28.09179403]\n",
      "  [-24.19821143]\n",
      "  [-18.81433451]\n",
      "  [-16.6930373 ]\n",
      "  [-13.91257626]]\n",
      "\n",
      " [[ -6.14821185]\n",
      "  [-10.794113  ]\n",
      "  [ -8.26785872]\n",
      "  [ -5.94372525]\n",
      "  [-11.40267678]\n",
      "  [-17.98864399]\n",
      "  [ -8.31710572]\n",
      "  [-17.76644527]\n",
      "  [-14.81304515]\n",
      "  [ -8.39904268]\n",
      "  [-17.67032115]\n",
      "  [-21.01748275]\n",
      "  [-15.5044194 ]\n",
      "  [ -6.5239458 ]\n",
      "  [ -9.83116988]\n",
      "  [-12.86931042]\n",
      "  [-10.98793777]\n",
      "  [-19.27446758]\n",
      "  [-20.44139333]\n",
      "  [-21.70760152]]]\n",
      "[[[ -6.44248633]\n",
      "  [  1.5631742 ]\n",
      "  [ -6.31691471]\n",
      "  [ -4.40893548]\n",
      "  [ -5.98713045]\n",
      "  [-12.17352834]\n",
      "  [-15.29935009]\n",
      "  [-15.09595068]\n",
      "  [-24.00625545]\n",
      "  [-25.54237781]\n",
      "  [-19.73453089]\n",
      "  [-22.98559617]\n",
      "  [-31.67412789]\n",
      "  [-32.62897895]\n",
      "  [-28.09179403]\n",
      "  [-24.19821143]\n",
      "  [-18.81433451]\n",
      "  [-16.6930373 ]\n",
      "  [-13.91257626]\n",
      "  [ -6.14821185]]]\n",
      "(10, 20, 1)\n"
     ]
    }
   ],
   "source": [
    "%%local\n",
    "TS = np.array(ts)\n",
    "num_periods = 20\n",
    "f_horizon = 1  #forecast horizon, one period into the future\n",
    "\n",
    "x_data = TS[:(len(TS)-(len(TS) % num_periods))]\n",
    "x_batches = x_data.reshape(-1, 20, 1)\n",
    "\n",
    "y_data = TS[1:(len(TS)-(len(TS) % num_periods))+f_horizon]\n",
    "y_batches = y_data.reshape(-1, 20, 1)\n",
    "print (len(x_batches))\n",
    "print (x_batches.shape)\n",
    "print (x_batches[0:2])\n",
    "\n",
    "print (y_batches[0:1])\n",
    "print (y_batches.shape)"
   ]
  },
  {
   "cell_type": "markdown",
   "metadata": {},
   "source": [
    "#### Pull out our test data"
   ]
  },
  {
   "cell_type": "code",
   "execution_count": 12,
   "metadata": {},
   "outputs": [
    {
     "name": "stdout",
     "output_type": "stream",
     "text": [
      "(1, 20, 1)\n",
      "[[[ 93.23839664]\n",
      "  [ 86.61420025]\n",
      "  [ 88.74616706]\n",
      "  [ 79.20694313]\n",
      "  [ 74.12947392]\n",
      "  [ 65.83034973]\n",
      "  [ 61.40883037]\n",
      "  [ 60.78487133]\n",
      "  [ 70.05312652]\n",
      "  [ 62.74377698]\n",
      "  [ 53.13052076]\n",
      "  [ 46.0882141 ]\n",
      "  [ 54.43279617]\n",
      "  [ 45.08058371]\n",
      "  [ 38.54412873]\n",
      "  [ 45.18613161]\n",
      "  [ 43.7466584 ]\n",
      "  [ 41.96454309]\n",
      "  [ 35.3913509 ]\n",
      "  [ 33.80996778]]]\n"
     ]
    }
   ],
   "source": [
    "%%local\n",
    "def test_data(series,forecast,num_periods):\n",
    "    test_x_setup = TS[-(num_periods + forecast):]\n",
    "    testX = test_x_setup[:num_periods].reshape(-1, 20, 1)\n",
    "    testY = TS[-(num_periods):].reshape(-1, 20, 1)\n",
    "    return testX,testY\n",
    "\n",
    "X_test, Y_test = test_data(TS,f_horizon,num_periods )\n",
    "print (X_test.shape)\n",
    "print (X_test)"
   ]
  },
  {
   "cell_type": "code",
   "execution_count": 13,
   "metadata": {},
   "outputs": [],
   "source": [
    "%%local\n",
    "tf.reset_default_graph()   #We didn't have any previous graph objects running, but this would reset the graphs\n",
    "\n",
    "num_periods = 20      #number of periods per vector we are using to predict one period ahead\n",
    "inputs = 1            #number of vectors submitted\n",
    "hidden = 100          #number of neurons we will recursively work through, can be changed to improve accuracy\n",
    "output = 1            #number of output vectors\n",
    "\n",
    "X = tf.placeholder(tf.float32, [None, num_periods, inputs])   #create variable objects\n",
    "y = tf.placeholder(tf.float32, [None, num_periods, output])\n",
    "\n",
    "\n",
    "basic_cell = tf.contrib.rnn.BasicRNNCell(num_units=hidden, activation=tf.nn.relu)   #create our RNN object\n",
    "rnn_output, states = tf.nn.dynamic_rnn(basic_cell, X, dtype=tf.float32)               #choose dynamic over static\n",
    "\n",
    "learning_rate = 0.001   #small learning rate so we don't overshoot the minimum\n",
    "\n",
    "stacked_rnn_output = tf.reshape(rnn_output, [-1, hidden])           #change the form into a tensor\n",
    "stacked_outputs = tf.layers.dense(stacked_rnn_output, output)        #specify the type of layer (dense)\n",
    "outputs = tf.reshape(stacked_outputs, [-1, num_periods, output])          #shape of results\n",
    " \n",
    "loss = tf.reduce_sum(tf.square(outputs - y))    #define the cost function which evaluates the quality of our model\n",
    "optimizer = tf.train.AdamOptimizer(learning_rate=learning_rate)          #gradient descent method\n",
    "training_op = optimizer.minimize(loss)          #train the result of the application of the cost_function                                 \n",
    "\n",
    "init = tf.global_variables_initializer()           #initialize all the variables"
   ]
  },
  {
   "cell_type": "code",
   "execution_count": 14,
   "metadata": {},
   "outputs": [
    {
     "name": "stdout",
     "output_type": "stream",
     "text": [
      "(0, '\\tMSE:', 352053.06)\n",
      "(100, '\\tMSE:', 14581.784)\n",
      "(200, '\\tMSE:', 8028.585)\n",
      "(300, '\\tMSE:', 3679.7852)\n",
      "(400, '\\tMSE:', 1820.7721)\n",
      "(500, '\\tMSE:', 1173.5277)\n",
      "(600, '\\tMSE:', 1078.7859)\n",
      "(700, '\\tMSE:', 914.3454)\n",
      "(800, '\\tMSE:', 982.80359)\n",
      "(900, '\\tMSE:', 831.36707)\n",
      "[[[ 97.74221802]\n",
      "  [ 85.65024567]\n",
      "  [ 80.41075897]\n",
      "  [ 73.30901337]\n",
      "  [ 98.35876465]\n",
      "  [ 55.93323517]\n",
      "  [ 55.92270279]\n",
      "  [ 69.85540771]\n",
      "  [ 75.54729462]\n",
      "  [ 65.85166931]\n",
      "  [ 68.10777283]\n",
      "  [ 49.13397217]\n",
      "  [ 39.76128387]\n",
      "  [ 28.84299469]\n",
      "  [ 42.58358765]\n",
      "  [ 51.84318924]\n",
      "  [ 53.95585632]\n",
      "  [ 41.48054123]\n",
      "  [ 27.86694908]\n",
      "  [ 22.4953289 ]]]\n"
     ]
    }
   ],
   "source": [
    "%%local\n",
    "epochs = 1000     #number of iterations or training cycles, includes both the FeedFoward and Backpropogation\n",
    "\n",
    "with tf.Session() as sess:\n",
    "    init.run()\n",
    "    for ep in range(epochs):\n",
    "        sess.run(training_op, feed_dict={X: x_batches, y: y_batches})\n",
    "        if ep % 100 == 0:\n",
    "            mse = loss.eval(feed_dict={X: x_batches, y: y_batches})\n",
    "            print(ep, \"\\tMSE:\", mse)\n",
    "    \n",
    "    y_pred = sess.run(outputs, feed_dict={X: X_test})\n",
    "    print(y_pred)"
   ]
  },
  {
   "cell_type": "code",
   "execution_count": 15,
   "metadata": {},
   "outputs": [
    {
     "data": {
      "image/png": "[encoded data removed]",
      "text/plain": [
       "<matplotlib.figure.Figure at 0x7f3a7c670550>"
      ]
     },
     "metadata": {},
     "output_type": "display_data"
    }
   ],
   "source": [
    "%%local\n",
    "plt.title(\"Forecast vs Actual\", fontsize=14)\n",
    "plt.plot(pd.Series(np.ravel(Y_test)), \"bo\", markersize=10, label=\"Actual\")\n",
    "#plt.plot(pd.Series(np.ravel(Y_test)), \"w*\", markersize=10)\n",
    "plt.plot(pd.Series(np.ravel(y_pred)), \"r.\", markersize=10, label=\"Forecast\")\n",
    "plt.legend(loc=\"upper left\")\n",
    "plt.xlabel(\"Time Periods\")\n",
    "\n",
    "plt.show()\n",
    "\n"
   ]
  },
  {
   "cell_type": "code",
   "execution_count": null,
   "metadata": {
    "collapsed": true
   },
   "outputs": [],
   "source": []
  }
 ],
 "metadata": {
  "anaconda-cloud": {},
  "kernelspec": {
   "display_name": "PySpark",
   "language": "",
   "name": "pysparkkernel"
  },
  "language_info": {
   "codemirror_mode": {
    "name": "python",
    "version": 2
   },
   "mimetype": "text/x-python",
   "name": "pyspark",
   "pygments_lexer": "python2"
  }
 },
 "nbformat": 4,
 "nbformat_minor": 1
}
