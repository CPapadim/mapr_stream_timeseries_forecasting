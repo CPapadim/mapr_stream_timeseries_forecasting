{
 "cells": [
  {
   "cell_type": "code",
   "execution_count": null,
   "metadata": {},
   "outputs": [],
   "source": [
    "'''\n",
    "Bulk convert XML to CSV Single Partition\n",
    "Author:  Justin Brandenburg, Data Scientist\n",
    "Email:   jbrandenburg@mapr.com\n",
    "\n",
    "Requirements: change Pyspark python to Python 3.5\n",
    "\n",
    "In Sandbox:\n",
    "- upload zip file into /user/user01 using Hue\n",
    "- zip file gets unzipped, rename file to rw_raw\n",
    "\n",
    "In Sandbox as user01 at command line:\n",
    "[user01@maprdemo ~]$ cd rw_raw\n",
    "[user01@maprdemo rw_raw]$ ls -1 | wc -\n",
    "[user01@maprdemo ]$ mkdir rw_XML_train\n",
    "[user01@maprdemo rw_raw]$ cd ..\n",
    "- copy raw data to new folder for xml conversion\n",
    "[user01@maprdemo ~]$ cp -R rw_raw rw_XML_train/\n",
    "- delete rw_raw in hue to clear up space \n",
    "- convert to xml\n",
    "[user01@maprdemo ~]$ cd rw_XML_train\n",
    "[user01@maprdemo rw_XML_train]$ find $1 -name \"* *.dat\" -type f -print0 | while read -d $'\\0' f; do mv -v \"$f\" \"${f// /_}\"; done\n",
    "[user01@maprdemo rw_XML_train]$ for f in *.dat; do mv -- \"$f\" \"${f%.dat}.xml\"; \n",
    "[user01@maprdemo ~]$ /opt/mapr/spark/spark-2.1.0/bin/spark-submit  --packages com.databricks:spark-xml_2.10:0.4.1 /user/user01/Sensor_ETLsparksubmit.py\n",
    "'''"
   ]
  },
  {
   "cell_type": "code",
   "execution_count": null,
   "metadata": {},
   "outputs": [],
   "source": [
    "#PYSPARK Executable script\n",
    "#import libraries\n",
    "print (\"Importing dependencies....\")\n",
    "import sys\n",
    "import os\n",
    "from pyspark.sql import SparkSession\n",
    "import pyspark.sql.functions as func\n",
    "from pyspark.sql.functions import *\n",
    "from pyspark.sql.types import StringType, IntegerType, StructType, StructField, DoubleType, FloatType, DateType, TimestampType\n",
    "from pyspark.sql.functions import date_format, col, desc, udf, from_unixtime, unix_timestamp, date_sub, date_add, last_day\n",
    "import time\n",
    "print(\"Import complete.\\n\") "
   ]
  },
  {
   "cell_type": "code",
   "execution_count": null,
   "metadata": {},
   "outputs": [],
   "source": [
    "def xmlConvert(spark):\n",
    "\n",
    "    etl_time = time.time()\n",
    "    df = spark.read.format('com.databricks.spark.xml').options(rowTag='HistoricalTextData').load('maprfs:///user/user01/rw_XML_train')\n",
    "    df = df.withColumn(\"TimeStamp\", df[\"TimeStamp\"].cast(\"timestamp\")).groupBy(\"TimeStamp\").pivot(\"TagName\").sum(\"TagValue\").na.fill(0)\n",
    "    df.repartition(1).write.csv(\"maprfs:///user/user01/rw_etl.csv\", header=True, sep=\",\")\n",
    "    print (\"Time taken to do xml transformation: --- %s seconds ---\" % (time.time() - etl_time))"
   ]
  }
 ],
 "metadata": {
  "kernelspec": {
   "display_name": "Python 2",
   "language": "python",
   "name": "python2"
  },
  "language_info": {
   "codemirror_mode": {
    "name": "ipython",
    "version": 2
   },
   "file_extension": ".py",
   "mimetype": "text/x-python",
   "name": "python",
   "nbconvert_exporter": "python",
   "pygments_lexer": "ipython2",
   "version": "2.7.9"
  }
 },
 "nbformat": 4,
 "nbformat_minor": 2
}
