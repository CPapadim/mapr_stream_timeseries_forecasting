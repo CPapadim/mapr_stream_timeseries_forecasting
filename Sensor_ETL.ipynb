{
 "cells": [
  {
   "cell_type": "markdown",
   "metadata": {},
   "source": [
    "# Spark ETL to Transform Sensor Data on MapR\n",
    "\n",
    "Before we can dive into our data we need to convert it to a format we can more readily deal with.  The sensor writes data in XML format, but we'll want to convert that to CSV.  We'll launch a Spark Session to perform the ETL job at scale."
   ]
  },
  {
   "cell_type": "markdown",
   "metadata": {},
   "source": [
    "## Configure the Spark Session\n",
    "\n",
    "We'll need to link to the `com.databrocks:spark-xml` package to do the conversion.  We can also set up a few other configurations.  Setting configurations with PySpark and Jupyter is easy using a `Configure` block as shown."
   ]
  },
  {
   "cell_type": "code",
   "execution_count": 1,
   "metadata": {},
   "outputs": [
    {
     "data": {
      "text/html": [
       "Current session configs: <tt>{u'executorCores': 2, u'kind': 'pyspark', u'conf': {u'spark.jars.packages': u'com.databricks:spark-xml_2.10:0.4.1'}, u'driverMemory': u'2048M'}</tt><br>"
      ],
      "text/plain": [
       "<IPython.core.display.HTML object>"
      ]
     },
     "metadata": {},
     "output_type": "display_data"
    },
    {
     "data": {
      "text/html": [
       "No active sessions."
      ],
      "text/plain": [
       "<IPython.core.display.HTML object>"
      ]
     },
     "metadata": {},
     "output_type": "display_data"
    }
   ],
   "source": [
    "%%configure -f\n",
    "{\"kind\": \"spark\",\n",
    "\"driverMemory\": \"2048M\",\n",
    "\"executorCores\": 2,\n",
    " \"conf\":{\"spark.jars.packages\":\"com.databricks:spark-xml_2.10:0.4.1\"\n",
    "        }\n",
    "}"
   ]
  },
  {
   "cell_type": "markdown",
   "metadata": {},
   "source": [
    "## Starting the Spark Session\n",
    "\n",
    "Because we're using a PySpark kernel, any code we run will run on the MapR Hadoop Cluster automatically.  When we execute the first line of code, we'll initialize a Spark Application to do our work."
   ]
  },
  {
   "cell_type": "code",
   "execution_count": 2,
   "metadata": {},
   "outputs": [
    {
     "name": "stdout",
     "output_type": "stream",
     "text": [
      "Starting Spark application\n"
     ]
    },
    {
     "data": {
      "text/html": [
       "<table>\n",
       "<tr><th>ID</th><th>YARN Application ID</th><th>Kind</th><th>State</th><th>Spark UI</th><th>Driver log</th><th>Current session?</th></tr><tr><td>0</td><td>application_1500400165929_0670</td><td>pyspark</td><td>idle</td><td><a target=\"_blank\" href=\"https://ip-172-31-25-53.us-west-2.compute.internal:8090/proxy/application_1500400165929_0670/\">Link</a></td><td><a target=\"_blank\" href=\"https://ip-172-31-25-53.us-west-2.compute.internal:8044/node/containerlogs/container_e22_1500400165929_0670_01_000001/harry\">Link</a></td><td>✔</td></tr></table>"
      ],
      "text/plain": [
       "<IPython.core.display.HTML object>"
      ]
     },
     "metadata": {},
     "output_type": "display_data"
    },
    {
     "name": "stdout",
     "output_type": "stream",
     "text": [
      "SparkSession available as 'spark'.\n",
      "Importing dependencies....\n",
      "Import complete."
     ]
    }
   ],
   "source": [
    "#PYSPARK Executable script\n",
    "#import libraries\n",
    "print (\"Importing dependencies....\")\n",
    "import sys\n",
    "import os\n",
    "from pyspark.sql import SparkSession\n",
    "import pyspark.sql.functions as func\n",
    "from pyspark.sql.functions import *\n",
    "from pyspark.sql.types import StringType, IntegerType, StructType, StructField, DoubleType, FloatType, DateType, TimestampType\n",
    "from pyspark.sql.functions import date_format, col, desc, udf, from_unixtime, unix_timestamp, date_sub, date_add, last_day\n",
    "import time\n",
    "print(\"Import complete.\\n\") "
   ]
  },
  {
   "cell_type": "markdown",
   "metadata": {},
   "source": [
    "## Starting the ETL Job\n",
    "\n",
    "The code below will read ~2000 XML files and convert them to a single CSV file.  The data is stored on the Hadoop file system on our MapR Cluster, and will be transformed there using Spark."
   ]
  },
  {
   "cell_type": "code",
   "execution_count": 3,
   "metadata": {},
   "outputs": [],
   "source": [
    "def xmlConvert(spark):\n",
    "\n",
    "    etl_time = time.time()\n",
    "    df = spark.read.format('com.databricks.spark.xml').options(rowTag='HistoricalTextData').load('hdfs:///data/predictive-maintenance/rw_XML_train')\n",
    "    df = df.withColumn(\"TimeStamp\", df[\"TimeStamp\"].cast(\"timestamp\")).groupBy(\"TimeStamp\").pivot(\"TagName\").sum(\"TagValue\").na.fill(0)\n",
    "    df.repartition(1).write.csv(\"hdfs:///data/predictive-maintenance/training-set/rw_etl_csv\", header=True, sep=\",\")\n",
    "    print (\"Time taken to do xml transformation: --- %s seconds ---\" % (time.time() - etl_time))"
   ]
  },
  {
   "cell_type": "code",
   "execution_count": 4,
   "metadata": {},
   "outputs": [
    {
     "name": "stdout",
     "output_type": "stream",
     "text": [
      "Session created\n",
      "Time taken to do xml transformation: --- 121.611049891 seconds ---"
     ]
    }
   ],
   "source": [
    "spark = SparkSession.builder.appName('XML ETL').getOrCreate()\n",
    "print('Session created')\n",
    "xmlConvert(spark)"
   ]
  },
  {
   "cell_type": "code",
   "execution_count": 5,
   "metadata": {},
   "outputs": [
    {
     "name": "stdout",
     "output_type": "stream",
     "text": [
      "Found 2 items\r\n",
      "-rwxr-xr-x   3 5007 5007          0 2018-02-02 06:35 /data/predictive-maintenance/training-set/rw_etl_csv/_SUCCESS\r\n",
      "-rwxr-xr-x   3 5007 5007   15043746 2018-02-02 06:35 /data/predictive-maintenance/training-set/rw_etl_csv/part-00000-6d90a100-9dc0-49e1-b2ea-d3b5b0df7140.csv\r\n"
     ]
    }
   ],
   "source": [
    "%%local\n",
    "! hadoop fs -ls /data/predictive-maintenance/training-set/rw_etl_csv"
   ]
  }
 ],
 "metadata": {
  "kernelspec": {
   "display_name": "PySpark",
   "language": "",
   "name": "pysparkkernel"
  },
  "language_info": {
   "codemirror_mode": {
    "name": "python",
    "version": 2
   },
   "mimetype": "text/x-python",
   "name": "pyspark",
   "pygments_lexer": "python2"
  }
 },
 "nbformat": 4,
 "nbformat_minor": 2
}
