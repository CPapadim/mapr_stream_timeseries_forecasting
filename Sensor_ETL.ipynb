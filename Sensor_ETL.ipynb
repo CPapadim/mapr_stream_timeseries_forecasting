{
 "cells": [
  {
   "cell_type": "code",
   "execution_count": null,
   "metadata": {},
   "outputs": [],
   "source": [
    "'''\n",
    "Bulk convert XML to CSV Single Partition\n",
    "Author:  Justin Brandenburg, Data Scientist\n",
    "Email:   jbrandenburg@mapr.com\n",
    "\n",
    "Requirements: change Pyspark python to Python 3.5\n",
    "\n",
    "In Sandbox:\n",
    "- upload zip file into /user/user01 using Hue\n",
    "- zip file gets unzipped, rename file to rw_raw\n",
    "\n",
    "In Sandbox as user01 at command line:\n",
    "[user01@maprdemo ~]$ cd rw_raw\n",
    "[user01@maprdemo rw_raw]$ ls -1 | wc -\n",
    "[user01@maprdemo ]$ mkdir rw_XML_train\n",
    "[user01@maprdemo rw_raw]$ cd ..\n",
    "- copy raw data to new folder for xml conversion\n",
    "[user01@maprdemo ~]$ cp -R rw_raw rw_XML_train/\n",
    "- delete rw_raw in hue to clear up space \n",
    "- convert to xml\n",
    "[user01@maprdemo ~]$ cd rw_XML_train\n",
    "[user01@maprdemo rw_XML_train]$ find $1 -name \"* *.dat\" -type f -print0 | while read -d $'\\0' f; do mv -v \"$f\" \"${f// /_}\"; done\n",
    "[user01@maprdemo rw_XML_train]$ for f in *.dat; do mv -- \"$f\" \"${f%.dat}.xml\"; \n",
    "[user01@maprdemo ~]$ /opt/mapr/spark/spark-2.1.0/bin/spark-submit  --packages com.databricks:spark-xml_2.10:0.4.1 /user/user01/Sensor_ETLsparksubmit.py\n",
    "'''"
   ]
  },
  {
   "cell_type": "code",
   "execution_count": 9,
   "metadata": {},
   "outputs": [
    {
     "name": "stdout",
     "output_type": "stream",
     "text": [
      "Starting Spark application\n"
     ]
    },
    {
     "data": {
      "text/html": [
       "<table>\n",
       "<tr><th>ID</th><th>YARN Application ID</th><th>Kind</th><th>State</th><th>Spark UI</th><th>Driver log</th><th>Current session?</th></tr><tr><td>10</td><td>application_1500400165929_0618</td><td>pyspark</td><td>idle</td><td><a target=\"_blank\" href=\"https://ip-172-31-25-53.us-west-2.compute.internal:8090/proxy/application_1500400165929_0618/\">Link</a></td><td><a target=\"_blank\" href=\"https://ip-172-31-25-53.us-west-2.compute.internal:8044/node/containerlogs/container_e22_1500400165929_0618_01_000001/harry\">Link</a></td><td>✔</td></tr></table>"
      ],
      "text/plain": [
       "<IPython.core.display.HTML object>"
      ]
     },
     "metadata": {},
     "output_type": "display_data"
    },
    {
     "name": "stdout",
     "output_type": "stream",
     "text": [
      "SparkSession available as 'spark'.\n"
     ]
    },
    {
     "data": {
      "text/html": [
       "Current session configs: <tt>{u'executorCores': 2, u'kind': 'pyspark', u'conf': {u'spark.jars.packages': u'com.databricks:spark-xml_2.10:0.4.1'}, u'driverMemory': u'2048M'}</tt><br>"
      ],
      "text/plain": [
       "<IPython.core.display.HTML object>"
      ]
     },
     "metadata": {},
     "output_type": "display_data"
    },
    {
     "data": {
      "text/html": [
       "<table>\n",
       "<tr><th>ID</th><th>YARN Application ID</th><th>Kind</th><th>State</th><th>Spark UI</th><th>Driver log</th><th>Current session?</th></tr><tr><td>10</td><td>application_1500400165929_0618</td><td>pyspark</td><td>idle</td><td><a target=\"_blank\" href=\"https://ip-172-31-25-53.us-west-2.compute.internal:8090/proxy/application_1500400165929_0618/\">Link</a></td><td><a target=\"_blank\" href=\"https://ip-172-31-25-53.us-west-2.compute.internal:8044/node/containerlogs/container_e22_1500400165929_0618_01_000001/harry\">Link</a></td><td>✔</td></tr></table>"
      ],
      "text/plain": [
       "<IPython.core.display.HTML object>"
      ]
     },
     "metadata": {},
     "output_type": "display_data"
    }
   ],
   "source": [
    "%%configure -f\n",
    "{\"kind\": \"spark\",\n",
    "\"driverMemory\": \"2048M\",\n",
    "\"executorCores\": 2,\n",
    " \"conf\":{\"spark.jars.packages\":\"com.databricks:spark-xml_2.10:0.4.1\"\n",
    "        }\n",
    "}"
   ]
  },
  {
   "cell_type": "code",
   "execution_count": 10,
   "metadata": {},
   "outputs": [
    {
     "name": "stdout",
     "output_type": "stream",
     "text": [
      "Importing dependencies....\n",
      "Import complete."
     ]
    }
   ],
   "source": [
    "#PYSPARK Executable script\n",
    "#import libraries\n",
    "print (\"Importing dependencies....\")\n",
    "import sys\n",
    "import os\n",
    "from pyspark.sql import SparkSession\n",
    "import pyspark.sql.functions as func\n",
    "from pyspark.sql.functions import *\n",
    "from pyspark.sql.types import StringType, IntegerType, StructType, StructField, DoubleType, FloatType, DateType, TimestampType\n",
    "from pyspark.sql.functions import date_format, col, desc, udf, from_unixtime, unix_timestamp, date_sub, date_add, last_day\n",
    "import time\n",
    "print(\"Import complete.\\n\") "
   ]
  },
  {
   "cell_type": "code",
   "execution_count": 11,
   "metadata": {},
   "outputs": [],
   "source": [
    "def xmlConvert(spark):\n",
    "\n",
    "    etl_time = time.time()\n",
    "    df = spark.read.format('com.databricks.spark.xml').options(rowTag='HistoricalTextData').load('hdfs:///data/predictive-maintenance/rw_XML_train')\n",
    "    df = df.withColumn(\"TimeStamp\", df[\"TimeStamp\"].cast(\"timestamp\")).groupBy(\"TimeStamp\").pivot(\"TagName\").sum(\"TagValue\").na.fill(0)\n",
    "    df.repartition(1).write.csv(\"hdfs:///data/predictive-maintenance/training-set/rw_etl.csv\", header=True, sep=\",\")\n",
    "    print (\"Time taken to do xml transformation: --- %s seconds ---\" % (time.time() - etl_time))"
   ]
  },
  {
   "cell_type": "code",
   "execution_count": null,
   "metadata": {},
   "outputs": [],
   "source": [
    "spark = SparkSession.builder.appName('XML ETL').getOrCreate()\n",
    "\n",
    "print('Session created')\n",
    "\n",
    "try:\n",
    "    xmlConvert(spark)\n",
    "\n",
    "finally:\n",
    "    spark.stop()"
   ]
  },
  {
   "cell_type": "code",
   "execution_count": null,
   "metadata": {},
   "outputs": [],
   "source": [
    "sc.sp"
   ]
  }
 ],
 "metadata": {
  "kernelspec": {
   "display_name": "PySpark",
   "language": "",
   "name": "pysparkkernel"
  },
  "language_info": {
   "codemirror_mode": {
    "name": "python",
    "version": 2
   },
   "mimetype": "text/x-python",
   "name": "pyspark",
   "pygments_lexer": "python2"
  }
 },
 "nbformat": 4,
 "nbformat_minor": 2
}
