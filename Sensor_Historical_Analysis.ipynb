{
 "cells": [
  {
   "cell_type": "code",
   "execution_count": 7,
   "metadata": {},
   "outputs": [
    {
     "name": "stdout",
     "output_type": "stream",
     "text": [
      "Reading package lists... Done\n",
      "Building dependency tree       \n",
      "Reading state information... Done\n",
      "python-tk is already the newest version.\n",
      "0 upgraded, 0 newly installed, 0 to remove and 0 not upgraded.\n"
     ]
    }
   ],
   "source": [
    "%%local\n",
    "!sudo apt-get install -y python-tk"
   ]
  },
  {
   "cell_type": "markdown",
   "metadata": {},
   "source": [
    "# Predictive Maintenance Using IoT Sensor Data with Tensorflow\n",
    "\n",
    "In this analysis we use streaming IoT sensors to track the state of a SCARA (Selective Compliance Assembly Robot Arm) Robot and predict anomalies that may indicate impending failure.\n",
    "\n",
    "When an anomaly is detected, alerts can be sent to trigger maintenance request before the anomalous readings lead to failures."
   ]
  },
  {
   "cell_type": "code",
   "execution_count": 8,
   "metadata": {},
   "outputs": [],
   "source": [
    "%%local\n",
    "import os\n",
    "import pandas as pd\n",
    "import csv\n",
    "import numpy as np\n",
    "import random\n",
    "import glob\n",
    "import matplotlib\n",
    "import matplotlib.pyplot as plt\n",
    "import random\n",
    "import plotly\n",
    "%matplotlib inline\n",
    "\n",
    "#import tensorflow libraries\n",
    "import tensorflow as tf\n",
    "import shutil\n",
    "import tensorflow.contrib.learn as tflearn\n",
    "import tensorflow.contrib.layers as tflayers\n",
    "from tensorflow.contrib.learn.python.learn import learn_runner\n",
    "import tensorflow.contrib.metrics as metrics\n",
    "import tensorflow.contrib.rnn as rnn"
   ]
  },
  {
   "cell_type": "code",
   "execution_count": 9,
   "metadata": {},
   "outputs": [
    {
     "data": {
      "text/html": [
       "<script>requirejs.config({paths: { 'plotly': ['https://cdn.plot.ly/plotly-latest.min']},});if(!window.Plotly) {{require(['plotly'],function(plotly) {window.Plotly=plotly;});}}</script>"
      ],
      "text/vnd.plotly.v1+html": [
       "<script>requirejs.config({paths: { 'plotly': ['https://cdn.plot.ly/plotly-latest.min']},});if(!window.Plotly) {{require(['plotly'],function(plotly) {window.Plotly=plotly;});}}</script>"
      ]
     },
     "metadata": {},
     "output_type": "display_data"
    }
   ],
   "source": [
    "%%local\n",
    "from plotly import tools\n",
    "import plotly.plotly as py\n",
    "import plotly.graph_objs as go\n",
    "from plotly.offline import download_plotlyjs, init_notebook_mode, plot, iplot\n",
    "init_notebook_mode(connected=True)"
   ]
  },
  {
   "cell_type": "code",
   "execution_count": 10,
   "metadata": {},
   "outputs": [
    {
     "data": {
      "application/vnd.jupyter.widget-view+json": {
       "model_id": "df278a6d7ede4bf5a50cb4b1cbc9be95"
      }
     },
     "metadata": {},
     "output_type": "display_data"
    },
    {
     "data": {
      "application/vnd.jupyter.widget-view+json": {
       "model_id": "570c4bd415ec4f0ab5050cfde28b0754"
      }
     },
     "metadata": {},
     "output_type": "display_data"
    }
   ],
   "source": [
    "%%local\n",
    "#import the data from MapR-FS, super easy\n",
    "#df = pd.read_csv(\"/user/user01/rw_etl.csv/part-00000-45866095-f76d-4f6c-ba2d-a07f0ab2dc04.csv\").sort_values(['TimeStamp'], ascending=True).reset_index()\n",
    "\n",
    "#TEMPORARY - load data from local container for testing purposes while cluster is down\n",
    "df = pd.read_csv(\"tmp/data/part-00000-45866095-f76d-4f6c-ba2d-a07f0ab2dc04.csv\").sort_values(['TimeStamp'], ascending=True).reset_index()\n",
    "\n",
    "df.drop(['::[scararobot]Ax_J1.PositionCommand','::[scararobot]Ax_J1.TorqueFeedback','::[scararobot]Ax_J2.PositionCommand','::[scararobot]Ax_J2.TorqueFeedback','::[scararobot]Ax_J3.TorqueFeedback','::[scararobot]Ax_J6.TorqueFeedback','::[scararobot]ScanTimeAverage','::[scararobot]Ax_J6.PositionCommand','::[scararobot]Ax_J3.PositionCommand','index'], axis=1, inplace=True)\n",
    "df['TimeStamp']=pd.to_datetime(df['TimeStamp'])\n",
    "df.head(5)"
   ]
  },
  {
   "cell_type": "code",
   "execution_count": 13,
   "metadata": {},
   "outputs": [
    {
     "data": {
      "text/plain": [
       "0         0.000000\n",
       "1         0.000000\n",
       "2        60.671337\n",
       "3         0.000000\n",
       "4        61.989475\n",
       "5         0.000000\n",
       "6        63.313774\n",
       "7         0.000000\n",
       "8        64.632004\n",
       "9         0.000000\n",
       "10       65.959091\n",
       "11        0.000000\n",
       "12       67.273468\n",
       "13        0.000000\n",
       "14       68.590889\n",
       "15        0.000000\n",
       "16       69.996185\n",
       "17        0.000000\n",
       "18       71.609428\n",
       "19        0.000000\n",
       "20       73.516426\n",
       "21        0.000000\n",
       "22       75.517540\n",
       "23        0.000000\n",
       "24       77.579041\n",
       "25        0.000000\n",
       "26       79.885864\n",
       "27        0.000000\n",
       "28       82.314842\n",
       "29        0.000000\n",
       "           ...    \n",
       "81900     0.000000\n",
       "81901    -6.303816\n",
       "81902     0.000000\n",
       "81903    -5.944032\n",
       "81904     0.000000\n",
       "81905    -5.659811\n",
       "81906     0.000000\n",
       "81907    -5.453226\n",
       "81908     0.000000\n",
       "81909    -5.322546\n",
       "81910     0.000000\n",
       "81911    -5.238414\n",
       "81912     0.000000\n",
       "81913    -7.489295\n",
       "81914     0.000000\n",
       "81915    -5.194260\n",
       "81916     0.000000\n",
       "81917    -5.188122\n",
       "81918     0.000000\n",
       "81919    -5.185026\n",
       "81920     0.000000\n",
       "81921    -5.184684\n",
       "81922     0.000000\n",
       "81923    -5.184720\n",
       "81924     0.000000\n",
       "81925    -5.184828\n",
       "81926     0.000000\n",
       "81927   -10.370520\n",
       "81928     0.000000\n",
       "81929    -6.786576\n",
       "Name: ::[scararobot]Ax_J1.ActualPosition, Length: 81930, dtype: float64"
      ]
     },
     "execution_count": 13,
     "metadata": {},
     "output_type": "execute_result"
    }
   ],
   "source": [
    "%%local\n",
    "# Create a trace\n",
    "trace = go.Scatter(\n",
    "    x = df['TimeStamp'],\n",
    "    y = df['::[scararobot]Ax_J1.ActualPosition']\n",
    ")\n",
    "\n",
    "data = [trace]\n",
    "\n",
    "iplot(data)\n"
   ]
  },
  {
   "cell_type": "code",
   "execution_count": 11,
   "metadata": {},
   "outputs": [
    {
     "ename": "PlotlyError",
     "evalue": "The `figure_or_data` positional argument must be either `dict`-like or `list`-like.",
     "output_type": "error",
     "traceback": [
      "\u001b[0;31m\u001b[0m",
      "\u001b[0;31mPlotlyError\u001b[0mTraceback (most recent call last)",
      "\u001b[0;32m<ipython-input-11-335c8d6f63d2>\u001b[0m in \u001b[0;36m<module>\u001b[0;34m()\u001b[0m\n\u001b[0;32m----> 1\u001b[0;31m \u001b[0miplot\u001b[0m\u001b[0;34m(\u001b[0m\u001b[0mdf\u001b[0m\u001b[0;34m[\u001b[0m\u001b[0;34m'TimeStamp'\u001b[0m\u001b[0;34m]\u001b[0m\u001b[0;34m,\u001b[0m \u001b[0mdf\u001b[0m\u001b[0;34m[\u001b[0m\u001b[0;34m'::[scararobot]Ax_J1.ActualPosition'\u001b[0m\u001b[0;34m]\u001b[0m\u001b[0;34m)\u001b[0m\u001b[0;34m\u001b[0m\u001b[0m\n\u001b[0m",
      "\u001b[0;32m/usr/local/lib/python2.7/dist-packages/plotly/offline/offline.pyc\u001b[0m in \u001b[0;36miplot\u001b[0;34m(figure_or_data, show_link, link_text, validate, image, filename, image_width, image_height, config)\u001b[0m\n\u001b[1;32m    340\u001b[0m \u001b[0;34m\u001b[0m\u001b[0m\n\u001b[1;32m    341\u001b[0m     plot_html, plotdivid, width, height = _plot_html(\n\u001b[0;32m--> 342\u001b[0;31m         \u001b[0mfigure_or_data\u001b[0m\u001b[0;34m,\u001b[0m \u001b[0mconfig\u001b[0m\u001b[0;34m,\u001b[0m \u001b[0mvalidate\u001b[0m\u001b[0;34m,\u001b[0m \u001b[0;34m'100%'\u001b[0m\u001b[0;34m,\u001b[0m \u001b[0;36m525\u001b[0m\u001b[0;34m,\u001b[0m \u001b[0mTrue\u001b[0m\u001b[0;34m\u001b[0m\u001b[0m\n\u001b[0m\u001b[1;32m    343\u001b[0m     )\n\u001b[1;32m    344\u001b[0m \u001b[0;34m\u001b[0m\u001b[0m\n",
      "\u001b[0;32m/usr/local/lib/python2.7/dist-packages/plotly/offline/offline.pyc\u001b[0m in \u001b[0;36m_plot_html\u001b[0;34m(figure_or_data, config, validate, default_width, default_height, global_requirejs)\u001b[0m\n\u001b[1;32m    159\u001b[0m     \u001b[0;32melse\u001b[0m\u001b[0;34m:\u001b[0m\u001b[0;34m\u001b[0m\u001b[0m\n\u001b[1;32m    160\u001b[0m         figure = tools.return_figure_from_figure_or_data(\n\u001b[0;32m--> 161\u001b[0;31m             \u001b[0mfigure_or_data\u001b[0m\u001b[0;34m,\u001b[0m \u001b[0mvalidate\u001b[0m\u001b[0;34m\u001b[0m\u001b[0m\n\u001b[0m\u001b[1;32m    162\u001b[0m         )\n\u001b[1;32m    163\u001b[0m \u001b[0;34m\u001b[0m\u001b[0m\n",
      "\u001b[0;32m/usr/local/lib/python2.7/dist-packages/plotly/tools.pyc\u001b[0m in \u001b[0;36mreturn_figure_from_figure_or_data\u001b[0;34m(figure_or_data, validate_figure)\u001b[0m\n\u001b[1;32m   1377\u001b[0m         \u001b[0mfigure\u001b[0m \u001b[0;34m=\u001b[0m \u001b[0;34m{\u001b[0m\u001b[0;34m'data'\u001b[0m\u001b[0;34m:\u001b[0m \u001b[0mfigure_or_data\u001b[0m\u001b[0;34m}\u001b[0m\u001b[0;34m\u001b[0m\u001b[0m\n\u001b[1;32m   1378\u001b[0m     \u001b[0;32melse\u001b[0m\u001b[0;34m:\u001b[0m\u001b[0;34m\u001b[0m\u001b[0m\n\u001b[0;32m-> 1379\u001b[0;31m         raise exceptions.PlotlyError(\"The `figure_or_data` positional \"\n\u001b[0m\u001b[1;32m   1380\u001b[0m                                      \u001b[0;34m\"argument must be either \"\u001b[0m\u001b[0;34m\u001b[0m\u001b[0m\n\u001b[1;32m   1381\u001b[0m                                      \"`dict`-like or `list`-like.\")\n",
      "\u001b[0;31mPlotlyError\u001b[0m: The `figure_or_data` positional argument must be either `dict`-like or `list`-like."
     ]
    }
   ],
   "source": [
    "%%local\n",
    "iplot(df['TimeStamp'], df['::[scararobot]Ax_J1.ActualPosition'])"
   ]
  },
  {
   "cell_type": "code",
   "execution_count": 4,
   "metadata": {
    "scrolled": false
   },
   "outputs": [
    {
     "name": "stdout",
     "output_type": "stream",
     "text": [
      "40965\n",
      "[ 327.791445  328.576018  330.423442  333.020361  336.080585  340.781018\n",
      "  336.463073  294.974023  231.794334  223.780527]\n",
      "40965\n",
      "[ 327.791445  328.576018  330.423442  333.020361  336.080585]\n",
      "409\n",
      "(409, 100, 1)\n",
      "[ 328.576018  330.423442  333.020361 ...,  331.672992  329.66781\n",
      "  326.960628]\n",
      "40900\n",
      "409\n",
      "(1, 100, 1)\n",
      "[[[-231.923638]]]\n",
      "(1, 100, 1)\n",
      "[[[-176.057844]]]\n"
     ]
    },
    {
     "data": {
      "image/png": "[encoded data removed]",
      "text/plain": [
       "<matplotlib.figure.Figure at 0x7f26c1667410>"
      ]
     },
     "metadata": {},
     "output_type": "display_data"
    },
    {
     "data": {
      "image/png": "[encoded data removed]",
      "text/plain": [
       "<matplotlib.figure.Figure at 0x7f2690891ad0>"
      ]
     },
     "metadata": {},
     "output_type": "display_data"
    },
    {
     "data": {
      "image/png": "[encoded data removed]",
      "text/plain": [
       "<matplotlib.figure.Figure at 0x7f26904afb10>"
      ]
     },
     "metadata": {},
     "output_type": "display_data"
    }
   ],
   "source": [
    "%%local\n",
    "\n",
    "#plot some of the columns to get an idea of the trends over time\n",
    "df.plot(x=\"TimeStamp\", y=\"::[scararobot]Ax_J1.ActualPosition\", kind=\"line\")\n",
    "df.plot(x=\"TimeStamp\", y=[\"::[scararobot]Ax_J1.ActualPosition\",\"::[scararobot]Ax_J3.TorqueCommand\"], kind=\"line\")\n",
    "df.plot(x=\"TimeStamp\", y=[\"::[scararobot]CS_Cartesian.ActualPosition[0]\",\"::[scararobot]CS_Cartesian.ActualPosition[1]\"], kind=\"line\")\n",
    "\n",
    "#remove rows that are all zeros\n",
    "df1 = df[df[\"::[scararobot]speed\"] != 0].set_index('TimeStamp')   \n",
    "print (len(df1))\n",
    "\n",
    "#create a new column that will be our feature variable for our model\n",
    "#df1['total']=df1.sum(axis=1)\n",
    "df1['Total']= df1.select_dtypes(include=['float64','float32']).apply(lambda row: np.sum(row),axis=1)\n",
    "\n",
    "#convert into a time series object\n",
    "ts = pd.Series(df1['Total'])\n",
    "ts.plot(c='b', title='RW Total Sensor Aggregation')\n",
    "\n",
    "#prepare data and inputs for our TF model\n",
    "num_periods = 100\n",
    "f_horizon = 1       #number of periods into the future we are forecasting\n",
    "TS = np.array(ts)   #convert time series object to an array\n",
    "print (TS[0:10])\n",
    "print (len(TS))\n",
    "\n",
    "#create our training input data set \"X\"\n",
    "x_data = TS[:(len(TS)-(len(TS) % num_periods))]\n",
    "print (x_data[0:5])\n",
    "x_batches = x_data.reshape(-1, num_periods, 1)\n",
    "print (len(x_batches))\n",
    "print (x_batches.shape)\n",
    "#print (x_batches[0:3])\n",
    "\n",
    "#create our training output dataset \"y\"\n",
    "y_data = TS[1:(len(TS)-(len(TS) % num_periods))+f_horizon]\n",
    "#print (y_data)\n",
    "#print (len(y_data))\n",
    "#y_data = TS[(num_periods+(f_horizon-1))::(num_periods)]\n",
    "print (y_data)\n",
    "print (len(y_data))\n",
    "y_batches = y_data.reshape(-1, num_periods, 1)\n",
    "print (len(y_batches))\n",
    "\n",
    "#create our test X and y data\n",
    "def test_data(series,forecast,num_periods):\n",
    "    test_x_setup = series[-(num_periods + forecast):]\n",
    "    testX = test_x_setup[:num_periods].reshape(-1, num_periods, 1)\n",
    "    testY = TS[-(num_periods):].reshape(-1, num_periods, 1)\n",
    "    return testX,testY\n",
    "\n",
    "X_test, Y_test = test_data(TS,f_horizon,num_periods)\n",
    "print (X_test.shape)\n",
    "print (X_test[:,(num_periods-1):num_periods])\n",
    "print (Y_test.shape)\n",
    "print (Y_test[:,(num_periods-1):num_periods])\n"
   ]
  },
  {
   "cell_type": "code",
   "execution_count": 8,
   "metadata": {},
   "outputs": [
    {
     "name": "stdout",
     "output_type": "stream",
     "text": [
      "(0, '\\tMSE:', 8.5685248e+08)\n",
      "(100, '\\tMSE:', 54943380.0)\n",
      "(200, '\\tMSE:', 44197612.0)\n",
      "(300, '\\tMSE:', 39632792.0)\n",
      "(400, '\\tMSE:', 36136824.0)\n",
      "(500, '\\tMSE:', 32122160.0)\n",
      "(600, '\\tMSE:', 28869502.0)\n",
      "(700, '\\tMSE:', 25817292.0)\n",
      "(800, '\\tMSE:', 23756384.0)\n",
      "(900, '\\tMSE:', 21982408.0)\n",
      "[[[-109.04077911]]]\n"
     ]
    }
   ],
   "source": [
    "%%local\n",
    "\n",
    "\n",
    "#set up our TF model parameters\n",
    "\n",
    "tf.reset_default_graph()   #We didn't have any previous graph objects running, but this would reset the graphs\n",
    "\n",
    "inputs = 1            #number of vectors submitted\n",
    "hidden = 100          #number of neurons we will recursively work through, can be changed to improve accuracy\n",
    "output = 1            #number of output vectors\n",
    "\n",
    "X = tf.placeholder(tf.float32, [None, num_periods, inputs], name = \"X\")   #create variable objects\n",
    "y = tf.placeholder(tf.float32, [None, num_periods, output], name = \"y\")\n",
    "\n",
    "\n",
    "basic_cell = tf.contrib.rnn.BasicRNNCell(num_units=hidden, activation=tf.nn.relu)   #create our RNN object\n",
    "rnn_output, states = tf.nn.dynamic_rnn(basic_cell, X, dtype=tf.float32)               #choose dynamic over static\n",
    "\n",
    "learning_rate = 0.001   #small learning rate so we don't overshoot the minimum\n",
    "#tf.app.flags.DEFINE_float('learning_rate', 0.001, 'Initial learning rate.')\n",
    "\n",
    "stacked_rnn_output = tf.reshape(rnn_output, [-1, hidden])           #change the form into a tensor\n",
    "stacked_outputs = tf.layers.dense(stacked_rnn_output, output)        #specify the type of layer (dense)\n",
    "outputs = tf.reshape(stacked_outputs, [-1, num_periods, output])          #shape of results\n",
    " \n",
    "loss = tf.reduce_sum(tf.square(outputs - y),name='loss')    #define the cost function which evaluates the quality of our model\n",
    "optimizer = tf.train.AdamOptimizer(learning_rate=learning_rate)          #gradient descent method\n",
    "training_op = optimizer.minimize(loss)          #train the result of the application of the cost_function                                 \n",
    "\n",
    "init = tf.global_variables_initializer()\n",
    "\n",
    "epochs = 1000     #number of iterations or training cycles, includes both the FeedFoward and Backpropogation\n",
    "\n",
    "\n",
    "with tf.Session() as sess:\n",
    "    init.run()\n",
    "    for ep in range(epochs):\n",
    "        sess.run(training_op, feed_dict={X: x_batches, y: y_batches})\n",
    "        if ep % 100 == 0:\n",
    "            mse = loss.eval(feed_dict={X: x_batches, y: y_batches})\n",
    "            print(ep, \"\\tMSE:\", mse) \n",
    "            \n",
    "    y_pred = sess.run(outputs, feed_dict={X: X_test})\n",
    "    print(y_pred[:,(num_periods-1):num_periods])\n",
    "    \n",
    "    saver = tf.train.Saver()   #we are going to save the model\n",
    "    DIR=\"model\"  #path where the model will be saved\n",
    "    saver.save(sess, os.path.join(DIR,\"RWsensorTFmodel\"),global_step = epochs)\n",
    "\n",
    "\n"
   ]
  },
  {
   "cell_type": "code",
   "execution_count": 9,
   "metadata": {},
   "outputs": [
    {
     "data": {
      "image/png": "[encoded data removed]",
      "text/plain": [
       "<matplotlib.figure.Figure at 0x7fc1398c6850>"
      ]
     },
     "metadata": {},
     "output_type": "display_data"
    }
   ],
   "source": [
    "%%local\n",
    "\n",
    "#Plot our test y data and our y-predicted forecast\n",
    "plt.title(\"Forecast vs Actual\", fontsize=14)\n",
    "plt.plot(pd.Series(np.ravel(Y_test)), \"bo\", markersize=10, label=\"Actual\")\n",
    "#plt.plot(pd.Series(np.ravel(Y_test)), \"w*\", markersize=10)\n",
    "plt.plot(pd.Series(np.ravel(y_pred)), \"r.\", markersize=10, label=\"Forecast\")\n",
    "plt.legend(loc=\"upper left\")\n",
    "plt.xlabel(\"Time Periods\")\n",
    "plt.show()"
   ]
  }
 ],
 "metadata": {
  "kernelspec": {
   "display_name": "PySpark",
   "language": "",
   "name": "pysparkkernel"
  },
  "language_info": {
   "codemirror_mode": {
    "name": "python",
    "version": 2
   },
   "mimetype": "text/x-python",
   "name": "pyspark",
   "pygments_lexer": "python2"
  }
 },
 "nbformat": 4,
 "nbformat_minor": 2
}
