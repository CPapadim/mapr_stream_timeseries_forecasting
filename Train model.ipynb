{
 "cells": [
  {
   "cell_type": "code",
   "execution_count": 1,
   "metadata": {},
   "outputs": [],
   "source": [
    "%%local\n",
    "import os\n",
    "import pandas as pd\n",
    "import csv\n",
    "import numpy as np\n",
    "import random\n",
    "import glob\n",
    "import matplotlib\n",
    "import matplotlib.pyplot as plt\n",
    "import random\n",
    "%matplotlib inline"
   ]
  },
  {
   "cell_type": "code",
   "execution_count": null,
   "metadata": {},
   "outputs": [],
   "source": [
    "%%configure -f\n",
    "{\n",
    "    \"name\":\"remotesparkmagics-sample\", \n",
    "    \"driverMemory\": \"2048M\",\n",
    "    \"executorMemory\": \"1G\", \n",
    "    \"executorCores\": 1,\n",
    "    \"conf\": {\n",
    "          \"spark.yarn.appMasterEnv.PYSPARK_PYTHON\": \"/opt/conda2/bin/python\",\n",
    "          \"spark.yarn.appMasterEnv.PYSPARK_PYTHON\": \"/opt/conda2/bin/python\",\n",
    "          \"spark.yarn.appMasterEnv.PYSPARK3_PYTHON\": \"/opt/conda3/bin/python\",\n",
    "          \"spark.yarn.appMasterEnv.PYSPARK3_PYTHON\": \"/opt/conda3/bin/python\",\n",
    "        \"spark.executor.instances\": 2, \n",
    "        \"spark.yarn.executor.memoryOverhead\": \"1024M\"\n",
    "    }\n",
    "}"
   ]
  },
  {
   "cell_type": "code",
   "execution_count": 1,
   "metadata": {},
   "outputs": [
    {
     "name": "stdout",
     "output_type": "stream",
     "text": [
      "Starting Spark application\n"
     ]
    },
    {
     "data": {
      "text/html": [
       "<table>\n",
       "<tr><th>ID</th><th>YARN Application ID</th><th>Kind</th><th>State</th><th>Spark UI</th><th>Driver log</th><th>Current session?</th></tr><tr><td>4</td><td>application_1515799431330_0003</td><td>pyspark</td><td>idle</td><td><a target=\"_blank\" href=\"https://ip-10-82-4-59.us-west-2.compute.internal:8090/proxy/application_1515799431330_0003/\">Link</a></td><td><a target=\"_blank\" href=\"https://ip-10-82-4-59.us-west-2.compute.internal:8044/node/containerlogs/container_e03_1515799431330_0003_01_000001/hpapadimitriou\">Link</a></td><td>✔</td></tr></table>"
      ],
      "text/plain": [
       "<IPython.core.display.HTML object>"
      ]
     },
     "metadata": {},
     "output_type": "display_data"
    },
    {
     "name": "stdout",
     "output_type": "stream",
     "text": [
      "SparkSession available as 'spark'.\n",
      "'2.7.5 (default, Aug  4 2017, 00:39:18) \\n[GCC 4.8.5 20150623 (Red Hat 4.8.5-16)]'"
     ]
    }
   ],
   "source": [
    "#What are we working with?\n",
    "import sys\n",
    "sys.version"
   ]
  },
  {
   "cell_type": "code",
   "execution_count": 2,
   "metadata": {},
   "outputs": [
    {
     "name": "stderr",
     "output_type": "stream",
     "text": [
      "No module named tensorflow\n",
      "Traceback (most recent call last):\n",
      "ImportError: No module named tensorflow\n",
      "\n"
     ]
    }
   ],
   "source": [
    "import tensorflow as tf"
   ]
  },
  {
   "cell_type": "code",
   "execution_count": 6,
   "metadata": {},
   "outputs": [],
   "source": [
    "import subprocess"
   ]
  },
  {
   "cell_type": "code",
   "execution_count": 7,
   "metadata": {},
   "outputs": [
    {
     "name": "stderr",
     "output_type": "stream",
     "text": [
      "[Errno 2] No such file or directory\n",
      "Traceback (most recent call last):\n",
      "  File \"/usr/lib64/python2.7/subprocess.py\", line 524, in call\n",
      "    return Popen(*popenargs, **kwargs).wait()\n",
      "  File \"/usr/lib64/python2.7/subprocess.py\", line 711, in __init__\n",
      "    errread, errwrite)\n",
      "  File \"/usr/lib64/python2.7/subprocess.py\", line 1327, in _execute_child\n",
      "    raise child_exception\n",
      "OSError: [Errno 2] No such file or directory\n",
      "\n"
     ]
    }
   ],
   "source": [
    "subprocess.call(['pip', 'freeze'])"
   ]
  },
  {
   "cell_type": "code",
   "execution_count": null,
   "metadata": {},
   "outputs": [],
   "source": []
  }
 ],
 "metadata": {
  "kernelspec": {
   "display_name": "PySpark",
   "language": "",
   "name": "pysparkkernel"
  },
  "language_info": {
   "codemirror_mode": {
    "name": "python",
    "version": 2
   },
   "mimetype": "text/x-python",
   "name": "pyspark",
   "pygments_lexer": "python2"
  }
 },
 "nbformat": 4,
 "nbformat_minor": 2
}
