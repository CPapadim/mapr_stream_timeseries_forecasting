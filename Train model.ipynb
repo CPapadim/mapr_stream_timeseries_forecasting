{
 "cells": [
  {
   "cell_type": "code",
   "execution_count": 1,
   "metadata": {},
   "outputs": [],
   "source": [
    "%%local\n",
    "import os\n",
    "import pandas as pd\n",
    "import csv\n",
    "import numpy as np\n",
    "import random\n",
    "import glob\n",
    "import matplotlib\n",
    "import matplotlib.pyplot as plt\n",
    "import random\n",
    "%matplotlib inline"
   ]
  },
  {
   "cell_type": "code",
   "execution_count": 9,
   "metadata": {},
   "outputs": [
    {
     "name": "stderr",
     "output_type": "stream",
     "text": [
      "The code failed because of a fatal error:\n",
      "\tSession 5 unexpectedly reached final status 'dead'. See logs:\n",
      "stdout: \n",
      "\n",
      "stderr: \n",
      "18/01/29 23:46:34 WARN ClientCnxn: Session 0x0 for server null, unexpected error, closing socket connection and attempting reconnect\n",
      "java.net.ConnectException: Connection refused\n",
      "\tat sun.nio.ch.SocketChannelImpl.checkConnect(Native Method)\n",
      "\tat sun.nio.ch.SocketChannelImpl.finishConnect(SocketChannelImpl.java:717)\n",
      "\tat org.apache.zookeeper.ClientCnxnSocketNIO.doTransport(ClientCnxnSocketNIO.java:350)\n",
      "\tat org.apache.zookeeper.ClientCnxn$SendThread.run(ClientCnxn.java:1070)\n",
      "18/01/29 23:46:34 WARN ClientCnxn: Session 0x0 for server null, unexpected error, closing socket connection and attempting reconnect\n",
      "java.net.ConnectException: Connection refused\n",
      "\tat sun.nio.ch.SocketChannelImpl.checkConnect(Native Method)\n",
      "\tat sun.nio.ch.SocketChannelImpl.finishConnect(SocketChannelImpl.java:717)\n",
      "\tat org.apache.zookeeper.ClientCnxnSocketNIO.doTransport(ClientCnxnSocketNIO.java:350)\n",
      "\tat org.apache.zookeeper.ClientCnxn$SendThread.run(ClientCnxn.java:1070)\n",
      "18/01/29 23:46:41 WARN Client: Neither spark.yarn.jars nor spark.yarn.archive is set, falling back to uploading libraries under SPARK_HOME.\n",
      "18/01/29 23:46:45 WARN Client: Same path resource file:/opt/mapr/spark/spark-2.1.0/python/lib/pyspark.zip added multiple times to distributed cache.\n",
      "18/01/29 23:46:45 WARN Client: Same path resource file:/opt/mapr/spark/spark-2.1.0/python/lib/py4j-0.10.4-src.zip added multiple times to distributed cache.\n",
      "\n",
      "YARN Diagnostics: .\n",
      "\n",
      "Some things to try:\n",
      "a) Make sure Spark has enough available resources for Jupyter to create a Spark context.\n",
      "b) Contact your Jupyter administrator to make sure the Spark magics library is configured correctly.\n",
      "c) Restart the kernel.\n"
     ]
    },
    {
     "data": {
      "text/html": [
       "Current session configs: <tt>{u'kind': 'pyspark', u'name': u'remotesparkmagics-sample', u'driverMemory': u'2048M', u'conf': {u'spark.yarn.appMasterEnv.PYSPARK3_PYTHON': u'/opt/conda3/bin/python', u'spark.executor.instances': 2, u'spark.yarn.executor.memoryOverhead': u'1024M'}, u'executorCores': 1, u'executorMemory': u'1G'}</tt><br>"
      ],
      "text/plain": [
       "<IPython.core.display.HTML object>"
      ]
     },
     "metadata": {},
     "output_type": "display_data"
    },
    {
     "data": {
      "text/html": [
       "<table>\n",
       "<tr><th>ID</th><th>YARN Application ID</th><th>Kind</th><th>State</th><th>Spark UI</th><th>Driver log</th><th>Current session?</th></tr><tr><td>3</td><td>application_1515799431330_0002</td><td>pyspark</td><td>idle</td><td><a target=\"_blank\" href=\"https://ip-10-82-4-59.us-west-2.compute.internal:8090/proxy/application_1515799431330_0002/\">Link</a></td><td><a target=\"_blank\" href=\"https://ip-10-82-4-141.us-west-2.compute.internal:8044/node/containerlogs/container_e03_1515799431330_0002_01_000001/hpapadimitriou\">Link</a></td><td></td></tr></table>"
      ],
      "text/plain": [
       "<IPython.core.display.HTML object>"
      ]
     },
     "metadata": {},
     "output_type": "display_data"
    }
   ],
   "source": [
    "%%configure -f\n",
    "{\n",
    "    \"name\":\"remotesparkmagics-sample\", \n",
    "    \"driverMemory\": \"2048M\",\n",
    "    \"executorMemory\": \"1G\", \n",
    "    \"executorCores\": 1,\n",
    "    \"conf\": {\n",
    "          \"spark.yarn.appMasterEnv.PYSPARK3_PYTHON\": \"/opt/conda3/bin/python\",\n",
    "          \"spark.yarn.appMasterEnv.PYSPARK3_PYTHON\": \"/opt/conda3/bin/python\",\n",
    "        \"spark.executor.instances\": 2, \n",
    "        \"spark.yarn.executor.memoryOverhead\": \"1024M\"\n",
    "    }\n",
    "}"
   ]
  },
  {
   "cell_type": "code",
   "execution_count": 1,
   "metadata": {},
   "outputs": [
    {
     "name": "stdout",
     "output_type": "stream",
     "text": [
      "Starting Spark application\n"
     ]
    },
    {
     "data": {
      "text/html": [
       "<table>\n",
       "<tr><th>ID</th><th>YARN Application ID</th><th>Kind</th><th>State</th><th>Spark UI</th><th>Driver log</th><th>Current session?</th></tr><tr><td>4</td><td>application_1515799431330_0003</td><td>pyspark</td><td>idle</td><td><a target=\"_blank\" href=\"https://ip-10-82-4-59.us-west-2.compute.internal:8090/proxy/application_1515799431330_0003/\">Link</a></td><td><a target=\"_blank\" href=\"https://ip-10-82-4-59.us-west-2.compute.internal:8044/node/containerlogs/container_e03_1515799431330_0003_01_000001/hpapadimitriou\">Link</a></td><td>✔</td></tr></table>"
      ],
      "text/plain": [
       "<IPython.core.display.HTML object>"
      ]
     },
     "metadata": {},
     "output_type": "display_data"
    },
    {
     "name": "stdout",
     "output_type": "stream",
     "text": [
      "SparkSession available as 'spark'.\n",
      "'2.7.5 (default, Aug  4 2017, 00:39:18) \\n[GCC 4.8.5 20150623 (Red Hat 4.8.5-16)]'"
     ]
    }
   ],
   "source": [
    "#What are we working with?\n",
    "import sys\n",
    "sys.version"
   ]
  },
  {
   "cell_type": "code",
   "execution_count": 2,
   "metadata": {},
   "outputs": [
    {
     "name": "stderr",
     "output_type": "stream",
     "text": [
      "No module named tensorflow\n",
      "Traceback (most recent call last):\n",
      "ImportError: No module named tensorflow\n",
      "\n"
     ]
    }
   ],
   "source": [
    "import tensorflow as tf"
   ]
  },
  {
   "cell_type": "code",
   "execution_count": 6,
   "metadata": {},
   "outputs": [],
   "source": [
    "import subprocess"
   ]
  },
  {
   "cell_type": "code",
   "execution_count": 7,
   "metadata": {},
   "outputs": [
    {
     "name": "stderr",
     "output_type": "stream",
     "text": [
      "[Errno 2] No such file or directory\n",
      "Traceback (most recent call last):\n",
      "  File \"/usr/lib64/python2.7/subprocess.py\", line 524, in call\n",
      "    return Popen(*popenargs, **kwargs).wait()\n",
      "  File \"/usr/lib64/python2.7/subprocess.py\", line 711, in __init__\n",
      "    errread, errwrite)\n",
      "  File \"/usr/lib64/python2.7/subprocess.py\", line 1327, in _execute_child\n",
      "    raise child_exception\n",
      "OSError: [Errno 2] No such file or directory\n",
      "\n"
     ]
    }
   ],
   "source": [
    "subprocess.call(['pip', 'freeze'])"
   ]
  },
  {
   "cell_type": "code",
   "execution_count": null,
   "metadata": {},
   "outputs": [],
   "source": []
  }
 ],
 "metadata": {
  "kernelspec": {
   "display_name": "PySpark",
   "language": "",
   "name": "pysparkkernel"
  },
  "language_info": {
   "codemirror_mode": {
    "name": "python",
    "version": 2
   },
   "mimetype": "text/x-python",
   "name": "pyspark",
   "pygments_lexer": "python2"
  }
 },
 "nbformat": 4,
 "nbformat_minor": 2
}
