{
 "cells": [
  {
   "cell_type": "code",
   "execution_count": 1,
   "metadata": {},
   "outputs": [],
   "source": [
    "%%local\n",
    "import os\n",
    "import pandas as pd\n",
    "import csv\n",
    "import numpy as np\n",
    "import random\n",
    "import glob\n",
    "import matplotlib\n",
    "import matplotlib.pyplot as plt\n",
    "import random\n",
    "%matplotlib inline"
   ]
  },
  {
   "cell_type": "code",
   "execution_count": 1,
   "metadata": {},
   "outputs": [
    {
     "name": "stdout",
     "output_type": "stream",
     "text": [
      "Starting Spark application\n"
     ]
    },
    {
     "name": "stderr",
     "output_type": "stream",
     "text": [
      "The code failed because of a fatal error:\n",
      "\tSession 6 unexpectedly reached final status 'dead'. See logs:\n",
      "stdout: \n",
      "\n",
      "stderr: \n",
      "18/01/30 00:01:33 WARN Client: Neither spark.yarn.jars nor spark.yarn.archive is set, falling back to uploading libraries under SPARK_HOME.\n",
      "18/01/30 00:01:37 WARN Client: Same path resource file:/opt/mapr/spark/spark-2.1.0/python/lib/pyspark.zip added multiple times to distributed cache.\n",
      "18/01/30 00:01:37 WARN Client: Same path resource file:/opt/mapr/spark/spark-2.1.0/python/lib/py4j-0.10.4-src.zip added multiple times to distributed cache.\n",
      "\n",
      "YARN Diagnostics: \n",
      "YARN Diagnostics:\n",
      "Application application_1515799431330_0005 failed 1 times due to AM Container for appattempt_1515799431330_0005_000001 exited with  exitCode: -1000\n",
      "For more detailed output, check application tracking page:https://ip-10-82-4-59.us-west-2.compute.internal:8090/cluster/app/application_1515799431330_0005Then, click on links to logs of each attempt.\n",
      "Diagnostics: Application application_1515799431330_0005 initialization failed (exitCode=255) with output: main : command provided 0\n",
      "main : user is hpapadimitriou\n",
      "main : requested yarn user is hpapadimitriou\n",
      "\n",
      "Failing this attempt. Failing the application..\n",
      "\n",
      "Some things to try:\n",
      "a) Make sure Spark has enough available resources for Jupyter to create a Spark context.\n",
      "b) Contact your Jupyter administrator to make sure the Spark magics library is configured correctly.\n",
      "c) Restart the kernel.\n"
     ]
    }
   ],
   "source": [
    "#What are we working with?\n",
    "import sys\n",
    "sys.version"
   ]
  },
  {
   "cell_type": "code",
   "execution_count": 2,
   "metadata": {},
   "outputs": [
    {
     "name": "stderr",
     "output_type": "stream",
     "text": [
      "No module named tensorflow\n",
      "Traceback (most recent call last):\n",
      "ImportError: No module named tensorflow\n",
      "\n"
     ]
    }
   ],
   "source": [
    "import tensorflow as tf"
   ]
  },
  {
   "cell_type": "code",
   "execution_count": 6,
   "metadata": {},
   "outputs": [],
   "source": [
    "import subprocess"
   ]
  },
  {
   "cell_type": "code",
   "execution_count": 7,
   "metadata": {},
   "outputs": [
    {
     "name": "stderr",
     "output_type": "stream",
     "text": [
      "[Errno 2] No such file or directory\n",
      "Traceback (most recent call last):\n",
      "  File \"/usr/lib64/python2.7/subprocess.py\", line 524, in call\n",
      "    return Popen(*popenargs, **kwargs).wait()\n",
      "  File \"/usr/lib64/python2.7/subprocess.py\", line 711, in __init__\n",
      "    errread, errwrite)\n",
      "  File \"/usr/lib64/python2.7/subprocess.py\", line 1327, in _execute_child\n",
      "    raise child_exception\n",
      "OSError: [Errno 2] No such file or directory\n",
      "\n"
     ]
    }
   ],
   "source": [
    "subprocess.call(['pip', 'freeze'])"
   ]
  },
  {
   "cell_type": "code",
   "execution_count": 1,
   "metadata": {},
   "outputs": [
    {
     "name": "stdout",
     "output_type": "stream",
     "text": [
      "Starting Spark application\n"
     ]
    },
    {
     "data": {
      "text/html": [
       "<table>\n",
       "<tr><th>ID</th><th>YARN Application ID</th><th>Kind</th><th>State</th><th>Spark UI</th><th>Driver log</th><th>Current session?</th></tr><tr><td>0</td><td>application_1500400165929_0608</td><td>pyspark</td><td>idle</td><td><a target=\"_blank\" href=\"https://ip-172-31-25-53.us-west-2.compute.internal:8090/proxy/application_1500400165929_0608/\">Link</a></td><td><a target=\"_blank\" href=\"https://ip-172-31-25-53.us-west-2.compute.internal:8044/node/containerlogs/container_e22_1500400165929_0608_01_000001/harry\">Link</a></td><td>✔</td></tr></table>"
      ],
      "text/plain": [
       "<IPython.core.display.HTML object>"
      ]
     },
     "metadata": {},
     "output_type": "display_data"
    },
    {
     "name": "stdout",
     "output_type": "stream",
     "text": [
      "SparkSession available as 'spark'.\n",
      "10"
     ]
    }
   ],
   "source": [
    "5+5"
   ]
  },
  {
   "cell_type": "code",
   "execution_count": 10,
   "metadata": {},
   "outputs": [],
   "source": [
    "%%local\n",
    "#! hadoop fs -mkdir '/data/predictive-maintenance/training-set/'\n",
    "#data/training/part-00000-45866095-f76d-4f6c-ba2d-a07f0ab2dc04.csv'\n",
    "\n",
    "! hadoop fs -put 'tmp/data/part-00000-45866095-f76d-4f6c-ba2d-a07f0ab2dc04.csv' '/data/predictive-maintenance/training-set/part-00000-45866095-f76d-4f6c-ba2d-a07f0ab2dc04.csv'\n",
    "#! hdfs dfs -put <localsrc> <dest>"
   ]
  },
  {
   "cell_type": "code",
   "execution_count": 7,
   "metadata": {},
   "outputs": [
    {
     "name": "stdout",
     "output_type": "stream",
     "text": [
      "Found 9 items\r\n",
      "drwxr-xr-x   - 5000 5000          2 2017-08-15 21:16 /apps\r\n",
      "drwxrwxrwx   - 5000 5000         11 2017-12-05 20:36 /data\r\n",
      "drwxr-xr-x   - 5000 5000          0 2017-06-19 00:34 /hbase\r\n",
      "drwxr-xr-x   - root root          3 2017-06-19 00:43 /installer\r\n",
      "drwxr-xr-x   - 5000 5000          1 2017-06-19 00:44 /oozie\r\n",
      "drwxr-xr-x   - 5000 5000          0 2017-06-19 00:35 /opt\r\n",
      "drwxrwxrwx   - 5000 5000          8 2018-01-11 07:05 /tmp\r\n",
      "drwxr-xr-x   - 5000 5000         20 2018-01-30 19:48 /user\r\n",
      "drwxr-xr-x   - 5000 5000          1 2017-06-19 00:34 /var\r\n"
     ]
    }
   ],
   "source": [
    "%%local\n",
    "! hadoop fs -ls /"
   ]
  },
  {
   "cell_type": "code",
   "execution_count": 13,
   "metadata": {},
   "outputs": [],
   "source": [
    "filePath = 'hdfs:///data/predictive-maintenance/training-set/part-00000-45866095-f76d-4f6c-ba2d-a07f0ab2dc04.csv'\n",
    "#hi = spark.sqlContext.read.format(\"csv\").option(\"header\", \"true\").option(\"inferSchema\", \"true\").load(filePath)"
   ]
  },
  {
   "cell_type": "code",
   "execution_count": 17,
   "metadata": {},
   "outputs": [
    {
     "name": "stderr",
     "output_type": "stream",
     "text": [
      "name 'pd' is not defined\n",
      "Traceback (most recent call last):\n",
      "NameError: name 'pd' is not defined\n",
      "\n"
     ]
    }
   ],
   "source": [
    "from pyspark import SparkContext, SparkConf\n",
    "#sc = SparkContext()\n",
    "\n",
    "textFile = sc.textFile(filePath)\n",
    "#pd.read_csv(textFile)"
   ]
  },
  {
   "cell_type": "code",
   "execution_count": 22,
   "metadata": {},
   "outputs": [
    {
     "ename": "NameError",
     "evalue": "name 'textFile' is not defined",
     "output_type": "error",
     "traceback": [
      "\u001b[0;31m\u001b[0m",
      "\u001b[0;31mNameError\u001b[0mTraceback (most recent call last)",
      "\u001b[0;32m<ipython-input-22-218f595bf4f7>\u001b[0m in \u001b[0;36m<module>\u001b[0;34m()\u001b[0m\n\u001b[0;32m----> 1\u001b[0;31m \u001b[0mpd\u001b[0m\u001b[0;34m.\u001b[0m\u001b[0mread_csv\u001b[0m\u001b[0;34m(\u001b[0m\u001b[0mtextFile\u001b[0m\u001b[0;34m)\u001b[0m\u001b[0;34m\u001b[0m\u001b[0m\n\u001b[0m",
      "\u001b[0;31mNameError\u001b[0m: name 'textFile' is not defined"
     ]
    }
   ],
   "source": [
    "%%local\n",
    "pd.read_csv(textFile)"
   ]
  },
  {
   "cell_type": "code",
   "execution_count": 21,
   "metadata": {},
   "outputs": [],
   "source": [
    "%%local\n",
    "import pandas as pd"
   ]
  },
  {
   "cell_type": "code",
   "execution_count": 1,
   "metadata": {},
   "outputs": [
    {
     "name": "stdout",
     "output_type": "stream",
     "text": [
      "Starting Spark application\n"
     ]
    },
    {
     "data": {
      "text/html": [
       "<table>\n",
       "<tr><th>ID</th><th>YARN Application ID</th><th>Kind</th><th>State</th><th>Spark UI</th><th>Driver log</th><th>Current session?</th></tr><tr><td>4</td><td>application_1500400165929_0612</td><td>pyspark</td><td>idle</td><td><a target=\"_blank\" href=\"https://ip-172-31-25-53.us-west-2.compute.internal:8090/proxy/application_1500400165929_0612/\">Link</a></td><td><a target=\"_blank\" href=\"https://ip-172-31-25-53.us-west-2.compute.internal:8044/node/containerlogs/container_e22_1500400165929_0612_01_000001/harry\">Link</a></td><td>✔</td></tr></table>"
      ],
      "text/plain": [
       "<IPython.core.display.HTML object>"
      ]
     },
     "metadata": {},
     "output_type": "display_data"
    },
    {
     "name": "stdout",
     "output_type": "stream",
     "text": [
      "SparkSession available as 'spark'.\n",
      "Importing dependencies...."
     ]
    }
   ],
   "source": [
    "print (\"Importing dependencies....\")\n",
    "import sys\n",
    "import os"
   ]
  },
  {
   "cell_type": "code",
   "execution_count": null,
   "metadata": {},
   "outputs": [],
   "source": []
  }
 ],
 "metadata": {
  "kernelspec": {
   "display_name": "PySpark",
   "language": "",
   "name": "pysparkkernel"
  },
  "language_info": {
   "codemirror_mode": {
    "name": "python",
    "version": 2
   },
   "mimetype": "text/x-python",
   "name": "pyspark",
   "pygments_lexer": "python2"
  }
 },
 "nbformat": 4,
 "nbformat_minor": 2
}
