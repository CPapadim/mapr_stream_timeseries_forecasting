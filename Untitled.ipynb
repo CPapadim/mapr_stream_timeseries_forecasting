{
 "cells": [
  {
   "cell_type": "code",
   "execution_count": 2,
   "metadata": {},
   "outputs": [
    {
     "name": "stdout",
     "output_type": "stream",
     "text": [
      "Collecting maprdb\n",
      "  Downloading maprdb-0.0.3.tar.gz\n",
      "    Complete output from command python setup.py egg_info:\n",
      "    Traceback (most recent call last):\n",
      "      File \"<string>\", line 1, in <module>\n",
      "      File \"/tmp/pip-build-jLB6Re/maprdb/setup.py\", line 11, in <module>\n",
      "        code = subprocess.call([\"mvn\", \"dependency:copy-dependencies\"], shell=platform.system() == \"Windows\")\n",
      "      File \"/usr/lib/python2.7/subprocess.py\", line 522, in call\n",
      "        return Popen(*popenargs, **kwargs).wait()\n",
      "      File \"/usr/lib/python2.7/subprocess.py\", line 710, in __init__\n",
      "        errread, errwrite)\n",
      "      File \"/usr/lib/python2.7/subprocess.py\", line 1335, in _execute_child\n",
      "        raise child_exception\n",
      "    OSError: [Errno 8] Exec format error\n",
      "    \n",
      "    ----------------------------------------\n",
      "\u001b[31mCommand \"python setup.py egg_info\" failed with error code 1 in /tmp/pip-build-jLB6Re/maprdb/\u001b[0m\n"
     ]
    }
   ],
   "source": [
    "!sudo pip install maprdb"
   ]
  },
  {
   "cell_type": "code",
   "execution_count": 4,
   "metadata": {},
   "outputs": [
    {
     "name": "stdout",
     "output_type": "stream",
     "text": [
      "Get:1 http://security.debian.org jessie/updates InRelease [63.1 kB]\n",
      "Ign http://cloud.r-project.org jessie-cran3/ InRelease                         \n",
      "Ign http://package.mapr.com binary InRelease                                   \n",
      "Ign http://package.mapr.com binary InRelease                                   \n",
      "Hit http://package.mapr.com binary Release.gpg                                 \n",
      "Hit http://package.mapr.com binary Release.gpg                             \n",
      "Hit http://package.mapr.com binary Release                                 \n",
      "Hit http://package.mapr.com binary Release                                 \n",
      "Hit http://cloud.r-project.org jessie-cran3/ Release.gpg                   \n",
      "Get:2 http://package.mapr.com binary/trusty amd64 Packages [3249 B]            \n",
      "Ign http://httpredir.debian.org jessie InRelease                               \n",
      "Get:3 http://security.debian.org jessie/updates/main amd64 Packages [608 kB]   \n",
      "Hit http://cloud.r-project.org jessie-cran3/ Release                           \n",
      "Get:4 http://httpredir.debian.org jessie-updates InRelease [145 kB]            \n",
      "Get:5 http://package.mapr.com binary/trusty amd64 Packages [10.6 kB]           \n",
      "Get:6 http://httpredir.debian.org jessie-backports InRelease [166 kB]          \n",
      "Get:7 http://cloud.r-project.org jessie-cran3/ Packages [27.2 kB]              \n",
      "Hit http://httpredir.debian.org jessie Release.gpg                             \n",
      "Hit http://httpredir.debian.org jessie Release                          \n",
      "Get:8 http://httpredir.debian.org jessie-updates/main amd64 Packages [23.1 kB]\n",
      "Get:9 http://httpredir.debian.org jessie-backports/main amd64 Packages [1172 kB]\n",
      "Get:10 http://httpredir.debian.org jessie/main amd64 Packages [9064 kB]\n",
      "Fetched 11.3 MB in 6s (1708 kB/s)                                              \n",
      "Reading package lists... Done\n",
      "Reading package lists... Done\n",
      "Building dependency tree       \n",
      "Reading state information... Done\n",
      "E: Unable to locate package zlib-devel\n",
      "Reading package lists... Done\n",
      "Building dependency tree       \n",
      "Reading state information... Done\n",
      "E: Unable to locate package openssl-devel\n"
     ]
    }
   ],
   "source": [
    "!sudo apt-get update\n",
    "!sudo apt-get install zlib-devel\n",
    "!sudo apt-get install openssl-devel"
   ]
  },
  {
   "cell_type": "code",
   "execution_count": null,
   "metadata": {},
   "outputs": [],
   "source": []
  }
 ],
 "metadata": {
  "kernelspec": {
   "display_name": "Python 2",
   "language": "python",
   "name": "python2"
  },
  "language_info": {
   "codemirror_mode": {
    "name": "ipython",
    "version": 2
   },
   "file_extension": ".py",
   "mimetype": "text/x-python",
   "name": "python",
   "nbconvert_exporter": "python",
   "pygments_lexer": "ipython2",
   "version": "2.7.9"
  }
 },
 "nbformat": 4,
 "nbformat_minor": 2
}
